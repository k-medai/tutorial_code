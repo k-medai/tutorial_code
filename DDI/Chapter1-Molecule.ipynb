{
 "cells": [
  {
   "cell_type": "markdown",
   "metadata": {},
   "source": [
    "# Chapter 1 에서 배울 내용\n",
    "\n",
    "1. **분자의 데이터 표기법**  \n",
    "   - 화학에서 분자의 의미  \n",
    "   - 데이터를 다루기 위해 알아야 할 기본 사항  \n",
    "---\n",
    "2. **SMILES를 활용한 분자 데이터 변환**  \n",
    "   - 분자 데이터를 컴퓨터에서 표현하는 기초 형식인 SMILES  \n",
    "   - SMILES를 다루는 기초적인 방법 (문자열, 지문, 설명자, 이미지, 그래프 등)\n",
    "---\n",
    "3. **다양한 형태 변환을 지원하는 종합 함수 제작**  \n",
    "   - 여러 변환 기능을 종합한 함수 구현  \n"
   ]
  },
  {
   "cell_type": "markdown",
   "metadata": {},
   "source": [
    "### Ignore warnings\n",
    "코드 실행에서 불필요한 경고 문구 해제 "
   ]
  },
  {
   "cell_type": "code",
   "execution_count": 1,
   "metadata": {
    "ExecuteTime": {
     "end_time": "2024-11-29T08:23:11.680737Z",
     "start_time": "2024-11-29T08:23:11.432108Z"
    }
   },
   "outputs": [],
   "source": [
    "import warnings \n",
    "warnings.filterwarnings('ignore')\n",
    "\n",
    "from rdkit import RDLogger\n",
    "RDLogger.DisableLog('rdApp.*')"
   ]
  },
  {
   "cell_type": "markdown",
   "metadata": {},
   "source": [
    "### Library Import\n",
    "코드 실행에 필요한 라이브러리를 호출"
   ]
  },
  {
   "cell_type": "code",
   "execution_count": 2,
   "metadata": {
    "ExecuteTime": {
     "end_time": "2024-11-29T08:23:53.582930Z",
     "start_time": "2024-11-29T08:23:53.580013Z"
    }
   },
   "outputs": [
    {
     "name": "stdout",
     "output_type": "stream",
     "text": [
      "WARNING:tensorflow:From c:\\Users\\PARK\\anaconda3\\envs\\mail\\Lib\\site-packages\\tensorflow\\python\\util\\deprecation.py:588: calling function (from tensorflow.python.eager.polymorphic_function.polymorphic_function) with experimental_relax_shapes is deprecated and will be removed in a future version.\n",
      "Instructions for updating:\n",
      "experimental_relax_shapes is deprecated, use reduce_retracing instead\n",
      "2024.03.6\n"
     ]
    }
   ],
   "source": [
    "import torch\n",
    "import rdkit\n",
    "import py3Dmol\n",
    "import numpy as np\n",
    "import networkx as nx\n",
    "import matplotlib.pyplot as plt\n",
    "\n",
    "from rdkit import Chem\n",
    "from rdkit.Chem import AllChem, Draw, Descriptors, rdDepictor, rdDistGeom, MACCSkeys, rdMolDescriptors\n",
    "from rdkit.Chem.Draw import IPythonConsole\n",
    "rdDepictor.SetPreferCoordGen(True)\n",
    "IPythonConsole.ipython_3d = True\n",
    "\n",
    "from torch_geometric import utils as pyg_utils\n",
    "from deepchem.feat.smiles_tokenizer import BasicSmilesTokenizer\n",
    "\n",
    "print(rdkit.__version__)"
   ]
  },
  {
   "cell_type": "markdown",
   "metadata": {},
   "source": [
    "## 1) 분자의 데이터 표기법\n",
    "분자는 화학적으로 결합된 두 개 이상의 원자로 이루어진 물질의 가장 작은 단위로, 해당 물질의 화학적 성질을 유지하며 독립적으로 존재할 수 있다.\n",
    "\n",
    "이러한 화학 물질은 상황에 따라 다양한 용어로 불리는데, 예를 들어 **분자(Molecule)**, **화합물(Compound)**, **약물(Drug)** 등으로 구분된다.\n",
    "\n",
    "예시를 들어, 대표 항생제로 알려진 __\"페니실린\"__ 은 세균 감염을 치료하는데 사용되는 중요한 약물질이다.\n",
    "\n",
    "페니실린의 분자 구조가 어떻게 생겼는지와 어떤 식으로 표기하여 사용되고 있는지 확인해보자.\n",
    " \n",
    "아래 항목은 화학 물질이나 약물을 데이터로 표기할 때 사용하는 표준 정보들에 대한 설명이다.\n",
    "\n",
    "---\n",
    "\n",
    "* Generic Name: 일반적으로 사용되는 명칭\n",
    "* Formula: 분자의 원자 구성과 비율을 나타낸 화학식\n",
    "* IUPAC Name: 국제순수화학연합(IUPAC)이 권장하는 화학 명명법에 따른 공식 이름\n",
    "* CAS RN (Chemical Abstracts Service Registry Number): 특정 화합물(분자)을 식별하기 위한 고유 번호\n",
    "* SMILES (Simplified Molecular Input Line Entry System): 화합물의 구조를 텍스트로 나타내는 선형 표기법\n",
    "* InChI (International Chemical Identifier): 화학 구조를 표현하기 위해 사용하는 기계가 읽을 수 있는 표준 코드\n",
    "\n",
    "출처 : https://pubchem.ncbi.nlm.nih.gov/compound/Penicillin-G\n",
    "\n",
    "---"
   ]
  },
  {
   "cell_type": "code",
   "execution_count": 3,
   "metadata": {
    "ExecuteTime": {
     "end_time": "2024-11-29T08:23:57.206609Z",
     "start_time": "2024-11-29T08:23:57.193266Z"
    }
   },
   "outputs": [
    {
     "name": "stdout",
     "output_type": "stream",
     "text": [
      "Molecule Data:\n",
      "Generic Name: Penicillin\n",
      "Formula: C16H18N2O4S\n",
      "IUPAC Name: (2S,5R,6R)-3,3-dimethyl-7-oxo-6-[(2-phenylacetyl)amino]-4-thia-1-azabicyclo[3.2.0]heptane-2-carboxylic acid\n",
      "CAS RN: 61-33-6\n",
      "SMILES: CC1([C@@H](N2[C@H](S1)[C@@H](C2=O)NC(=O)CC3=CC=CC=C3)C(=O)O)C\n",
      "InChI: InChI=1S/C16H18N2O4S/c1-16(2)12(15(21)22)18-13(20)11(14(18)23-16)17-10(19)8-9-6-4-3-5-7-9/h3-7,11-12,14H,8H2,1-2H3,(H,17,19)(H,21,22)/t11-,12+,14-/m1/s1\n"
     ]
    },
    {
     "data": {
      "image/jpeg": "[encoded data removed]",
      "image/png": "[encoded data removed]",
      "text/plain": [
       "<PIL.PngImagePlugin.PngImageFile image mode=RGB size=300x300>"
      ]
     },
     "execution_count": 3,
     "metadata": {},
     "output_type": "execute_result"
    }
   ],
   "source": [
    "molecule_smiles = \"CC1([C@@H](N2[C@H](S1)[C@@H](C2=O)NC(=O)CC3=CC=CC=C3)C(=O)O)C\"\n",
    "molecule = Chem.MolFromSmiles(molecule_smiles)\n",
    "\n",
    "molecule_data = {\n",
    "    \"Generic Name\": \"Penicillin\",\n",
    "    \"Formula\": Chem.rdMolDescriptors.CalcMolFormula(molecule),\n",
    "    \"IUPAC Name\": \"(2S,5R,6R)-3,3-dimethyl-7-oxo-6-[(2-phenylacetyl)amino]-4-thia-1-azabicyclo[3.2.0]heptane-2-carboxylic acid\",\n",
    "    \"CAS RN\": \"61-33-6\",\n",
    "    \"SMILES\": molecule_smiles,\n",
    "    \"InChI\": Chem.MolToInchi(molecule),\n",
    "}\n",
    "\n",
    "\n",
    "print(\"Molecule Data:\")\n",
    "for key, value in molecule_data.items():\n",
    "    print(f\"{key}: {value}\")\n",
    "\n",
    "# Draw molecule\n",
    "Draw.MolToImage(molecule)"
   ]
  },
  {
   "cell_type": "markdown",
   "metadata": {},
   "source": [
    "## 2) SMILES 활용한 분자 데이터 변환\n",
    "SMILES는 컴퓨터가 분자 구조를 쉽게 저장하고 처리할 수 있도록 설계되어 가장 보편적으로 사용되는 데이터 형식이다.\n",
    "\n",
    "원자는 원소의 기호로 (ex: 탄소 -> C), 단일 결합을 제외한 이중, 삼중 결합은 (=, #)형태로 표기한다.\n",
    "\n",
    "고리를 이루는 구조는 고리의 시작과 끝을 숫자로 (ex: 벤젠 -> c1ccccc1), 갈라지는 분기는 괄호로 (ex: CC(C)C) 표기한다.\n",
    "\n",
    "수소는 표기를 생략하지만 암묵적으로 포함된 것으로 간주한다. \n",
    "\n",
    "이제, SMILES가 무엇인지 이해하였다면, 이것으로 어떻게 분자 데이터를 처리할 수 있는지 하나씩 살펴보도록 하자.\n",
    "\n",
    "파이썬에서 SMILES는 주로 `RDkit 오픈 소스 라이브러리` 를 통해 가공되기에 사용법에 익숙해지면 연구에 편리하다.    "
   ]
  },
  {
   "cell_type": "markdown",
   "metadata": {},
   "source": [
    "### a) 문자열 기반 접근: String Tokenization\n",
    "SMILES는 문자열이기에 자연어 처리에서 단어를 다루듯이 처리할 수 있다.\n",
    "\n",
    "가장 간단한 예시로, 문자열을 __\"개별적인 단위(토큰)\"__ 로 분리하여 컴퓨터가 처리하기 쉽게 변환하는 것이다.\n",
    "\n",
    "이 과정이 필요한 이유는, 머신러닝 및 딥러닝 모델에서 분자 데이털르 입력으로 사용하려면 SMILES를 숫자 벡터로 변환해야하기 때문이다.\n",
    "\n",
    "이를 위해, SMILES를 __\"의미 있는 조각\"__ 으로 나누는 작업이 필요하다.\n",
    "\n",
    "아래 예시에서는 SMILES를 조각 단위로 분리한 후, 각 조각에 고유한 값을 할당하여 Vocabulary(단어 사전)를 생성한다.\n",
    "\n",
    "> **Tip**: SMILES가 여러 개인 경우, 모든 SMILES에서 고유 조각을 모아 전체 Vocabulary를 만든 후 각 SMILES의 벡터 변환을 진행해야 한다. (예시를 위해, 진통제에서 자주 볼 수 있는 성분인 **아스피린** 분자를 함께 가공해보자)"
   ]
  },
  {
   "cell_type": "code",
   "execution_count": 4,
   "metadata": {
    "ExecuteTime": {
     "end_time": "2024-11-29T08:57:31.166890Z",
     "start_time": "2024-11-29T08:57:31.163505Z"
    }
   },
   "outputs": [
    {
     "name": "stdout",
     "output_type": "stream",
     "text": [
      "Aspirin (아스피린)\n"
     ]
    },
    {
     "data": {
      "image/png": "[encoded data removed]",
      "text/plain": [
       "<rdkit.Chem.rdchem.Mol at 0x1e22557ace0>"
      ]
     },
     "execution_count": 4,
     "metadata": {},
     "output_type": "execute_result"
    }
   ],
   "source": [
    "def generate_smiles_vocab(smis):\n",
    "    vocab = []\n",
    "    max_len = 0\n",
    "    tokenizer = BasicSmilesTokenizer()\n",
    "    for smi in smis:\n",
    "        tokens = tokenizer.tokenize(smi)\n",
    "        max_len = max(max_len, len(tokens))\n",
    "        vocab += tokens\n",
    "        \n",
    "    uniq_vocab = sorted(set(vocab))\n",
    "    smiles_vocab = {v: i for i, v in enumerate(uniq_vocab)}\n",
    "    smiles_vocab['Unk'] = len(smiles_vocab)\n",
    "    \n",
    "    encoded_smiles = [[smiles_vocab.get(token, smiles_vocab['Unk']) for token in tokenizer.tokenize(smi)] for smi in smis]\n",
    "    smiles_vec = []\n",
    "    for vec in encoded_smiles:\n",
    "        pad_len = max_len - len(vec)\n",
    "        vec = vec + ([0] * pad_len)\n",
    "        smiles_vec.append(vec)\n",
    "    smiles_vec = np.array(smiles_vec)\n",
    "    return smiles_vocab, smiles_vec\n",
    "\n",
    "aspirin = 'CC(=O)OC1=CC=CC=C1C(=O)O'\n",
    "smiles_vocab, encoded_smiles = generate_smiles_vocab([molecule_smiles, aspirin])\n",
    "print('Aspirin (아스피린)')\n",
    "Chem.MolFromSmiles(aspirin)"
   ]
  },
  {
   "cell_type": "code",
   "execution_count": 5,
   "metadata": {
    "ExecuteTime": {
     "end_time": "2024-11-29T08:57:31.491251Z",
     "start_time": "2024-11-29T08:57:31.487784Z"
    }
   },
   "outputs": [
    {
     "name": "stdout",
     "output_type": "stream",
     "text": [
      "Original SMILES (페니실린):\n",
      "\tCC1([C@@H](N2[C@H](S1)[C@@H](C2=O)NC(=O)CC3=CC=CC=C3)C(=O)O)C\n",
      "\n",
      "Another SMILES (아스피린):\n",
      "\tCC(=O)OC1=CC=CC=C1C(=O)O\n",
      "\n",
      "-----------------------------------------------------------------------------------------\n",
      "SMILES Vocab (페니실린과 아스피린을 구성하는 의미를 가진 조각들을 숫자로 맵핑하여 단어집을 형성):\n",
      "\t{'(': 0, ')': 1, '1': 2, '2': 3, '3': 4, '=': 5, 'C': 6, 'N': 7, 'O': 8, 'S': 9, '[C@@H]': 10, '[C@H]': 11, 'Unk': 12}\n",
      "\n",
      "-----------------------------------------------------------------------------------------\n",
      "Encoded SMILES by Vocab (페니실린 SMILES를 위치별로 숫자 벡터 변환):\n",
      "\t[ 6  6  2  0 10  0  7  3 11  0  9  2  1 10  0  6  3  5  8  1  7  6  0  5\n",
      "  8  1  6  6  4  5  6  6  5  6  6  5  6  4  1  6  0  5  8  1  8  1  6]\n",
      "\n",
      "Encoded SMILES by Vocab (아스피린 SMILES를 위치별로 숫자 벡터 변환):\n",
      "\t[6 6 0 5 8 1 8 6 2 5 6 6 5 6 6 5 6 2 6 0 5 8 1 8 0 0 0 0 0 0 0 0 0 0 0 0 0\n",
      " 0 0 0 0 0 0 0 0 0 0]\n",
      "\n"
     ]
    }
   ],
   "source": [
    "print(f\"Original SMILES (페니실린):\\n\\t{molecule_smiles}\\n\")\n",
    "print(f\"Another SMILES (아스피린):\\n\\t{aspirin}\\n\")\n",
    "print(f\"-----------------------------------------------------------------------------------------\")\n",
    "print(f\"SMILES Vocab (페니실린과 아스피린을 구성하는 의미를 가진 조각들을 숫자로 맵핑하여 단어집을 형성):\\n\\t{smiles_vocab}\\n\")\n",
    "print(f\"-----------------------------------------------------------------------------------------\")\n",
    "print(f\"Encoded SMILES by Vocab (페니실린 SMILES를 위치별로 숫자 벡터 변환):\\n\\t{encoded_smiles[0]}\\n\")\n",
    "print(f\"Encoded SMILES by Vocab (아스피린 SMILES를 위치별로 숫자 벡터 변환):\\n\\t{encoded_smiles[1]}\\n\")"
   ]
  },
  {
   "cell_type": "markdown",
   "metadata": {},
   "source": [
    "### b) 지문 기반 접근: Figerprint\n",
    "화학에서 __Fingerprint(지문)__ 는 분자의 화학적 구조나 특성을 간결하고 압축된 방식으로 표현한 이진 벡터 형식의 데이터이다.\n",
    "\n",
    "이는 분자 간 유사성을 계산하거나 머신러닝 모델에서 분자 특성을 입력 데이터로 사용할 때 주로 활용되며\n",
    "\n",
    "특정 칸에 임의의 구조를 정의하고 그 구조가 분자에 있다면 1, 없다면 0으로 값을 준다고 보면 되겠다.\n",
    "\n",
    "분자 지문은 분석하는 방식에 따라 다양항 종류로 나뉜다.\n",
    "\n",
    "* **RDKFingerprint**: 분자의 연결 정보를 중심으로 경로 방식으로 생성된 지문 (포괄적인 분석이 가능하지만, 단순 경로 중심이기에 분자 간의 복잡한 관계 반영이 어려움)\n",
    "* **MACCS Keys**: 166개의 고정된 패턴을 정의하여 생성된 지문 (간결하기에 계산이 빠르고 메모리 효율적, 표현에 대한 유연성은 낮아 새로운 패턴 반영이 없음) \n",
    "* **Morgan Fingerprint**: 특정 반지름(radius) 내의 원자와 결합 정보를 패턴으로 정의하여 지문을 생성 (ECFP로도 알려져 있으며, 반경 크기로 국소적 또는 전체적 특징을 자유롭게 표현 가능하지만 고정된 구조적 패턴이 없으므로 직관성이 떨어질 수 있음, 현재 머신러닝에서 가장 많이 사용되고 있는 방식)\n",
    "\n",
    "아래 예시에서는 MACCS Keys를 제외한 나머지 지문의 비트를 128로 고정하여 육안상 전체적인 비트를 확인하기 쉽게 하였으나\n",
    "\n",
    "> **Tip**: 일반적으로 사용되는 비트 수는 __1024__ 또는 __2048__ 이다. "
   ]
  },
  {
   "cell_type": "code",
   "execution_count": 6,
   "metadata": {
    "ExecuteTime": {
     "end_time": "2024-11-29T08:24:00.365837Z",
     "start_time": "2024-11-29T08:24:00.358766Z"
    }
   },
   "outputs": [
    {
     "name": "stdout",
     "output_type": "stream",
     "text": [
      "RDKit Fingerprint: \n",
      " [1, 1, 1, 1, 1, 1, 1, 1, 1, 1, 1, 1, 1, 1, 1, 1, 1, 1, 1, 1, 1, 1, 1, 1, 1, 1, 1, 1, 1, 1, 1, 1, 1, 1, 1, 1, 1, 1, 1, 1, 1, 1, 1, 1, 1, 1, 1, 1, 1, 1, 1, 1, 1, 1, 1, 1, 1, 1, 1, 1, 1, 1, 1, 1, 1, 1, 1, 1, 1, 1, 1, 1, 1, 1, 1, 1, 1, 1, 1, 1, 1, 1, 1, 1, 1, 1, 1, 1, 1, 1, 1, 1, 1, 1, 1, 1, 1, 1, 1, 1, 1, 1, 1, 1, 1, 1, 1, 1, 1, 1, 1, 1, 1, 1, 1, 1, 1, 1, 1, 1, 1, 1, 1, 1, 1, 1, 1, 1] \n",
      "\n",
      "MACCS Keys Fingerprint: \n",
      " [0, 0, 0, 0, 0, 0, 0, 0, 1, 0, 0, 1, 0, 0, 0, 0, 0, 0, 0, 1, 0, 0, 0, 0, 0, 0, 0, 0, 0, 0, 0, 0, 0, 0, 0, 0, 1, 0, 0, 0, 0, 0, 0, 0, 0, 0, 0, 1, 0, 0, 0, 0, 0, 0, 0, 0, 0, 0, 0, 0, 0, 0, 0, 0, 0, 0, 1, 0, 0, 0, 0, 0, 0, 0, 1, 0, 0, 0, 0, 1, 0, 1, 0, 1, 0, 1, 0, 0, 1, 0, 0, 0, 1, 0, 0, 1, 1, 1, 0, 0, 0, 0, 0, 0, 1, 1, 0, 0, 0, 0, 1, 1, 1, 0, 0, 0, 0, 1, 0, 0, 1, 1, 1, 1, 0, 0, 0, 1, 0, 0, 0, 1, 1, 1, 0, 0, 1, 1, 0, 1, 1, 0, 1, 1, 0, 0, 1, 0, 1, 1, 1, 1, 0, 0, 1, 1, 1, 1, 1, 1, 1, 1, 1, 1, 1, 1, 0] \n",
      "\n",
      "Morgan Fingerprint: \n",
      " [1, 0, 1, 1, 0, 1, 0, 0, 0, 0, 1, 0, 0, 0, 0, 0, 0, 1, 1, 0, 0, 0, 0, 1, 0, 0, 0, 0, 0, 0, 1, 0, 0, 1, 0, 1, 1, 0, 0, 1, 0, 1, 1, 0, 0, 0, 0, 1, 0, 0, 0, 0, 0, 1, 0, 0, 0, 1, 1, 0, 0, 1, 0, 0, 1, 0, 0, 0, 0, 1, 0, 0, 0, 0, 0, 0, 0, 0, 0, 0, 1, 1, 0, 0, 0, 0, 1, 0, 0, 0, 1, 0, 0, 0, 0, 0, 0, 0, 0, 1, 1, 0, 0, 0, 0, 1, 1, 0, 0, 0, 0, 0, 0, 1, 0, 0, 0, 0, 0, 0, 0, 0, 1, 1, 0, 1, 1, 1] \n",
      "\n"
     ]
    }
   ],
   "source": [
    "# RDKit Fingerprint\n",
    "rdkit_fp = Chem.RDKFingerprint(molecule, fpSize=128)\n",
    "print(\"RDKit Fingerprint:\", '\\n', list(rdkit_fp), '\\n')\n",
    "\n",
    "# MACCS Keys Fingerprint (167개로 고정된 차원, 비트 0은 항상 설정되지 않으며, 비트 1~166에만 설정됨)\n",
    "maccs_fp = MACCSkeys.GenMACCSKeys(molecule)\n",
    "print(\"MACCS Keys Fingerprint:\", '\\n', list(maccs_fp), '\\n')\n",
    "\n",
    "# Morgan Fingerprint (radius=2)\n",
    "morgan_fp = AllChem.GetMorganFingerprintAsBitVect(molecule, radius=2, nBits=128)\n",
    "print(\"Morgan Fingerprint:\", '\\n', list(morgan_fp), '\\n')"
   ]
  },
  {
   "cell_type": "markdown",
   "metadata": {},
   "source": [
    "Morgan Fingerprint를 예시로 들어, 1로 표시된 부분이 어떤 구조를 나타내는지 시각화를 통해 확인할 수 있다."
   ]
  },
  {
   "cell_type": "code",
   "execution_count": 7,
   "metadata": {
    "ExecuteTime": {
     "end_time": "2024-11-29T08:24:01.063664Z",
     "start_time": "2024-11-29T08:24:01.055799Z"
    }
   },
   "outputs": [],
   "source": [
    "drawOptions = Draw.rdMolDraw2D.MolDrawOptions()\n",
    "drawOptions.prepareMolsBeforeDrawing = False\n",
    "\n",
    "# to obtain smi\n",
    "def getsmi(mol, bit, bit_info):\n",
    "    if not bit in bit_info.keys():\n",
    "        return None\n",
    "\n",
    "    atomidx, radius = bit_info[bit][0]\n",
    "    env = Chem.FindAtomEnvironmentOfRadiusN(mol, radius, atomidx)\n",
    "\n",
    "    atomsToUse = set((atomidx, ))\n",
    "    for b in env:\n",
    "        atomsToUse.add(mol.GetBondWithIdx(b).GetBeginAtomIdx())\n",
    "        atomsToUse.add(mol.GetBondWithIdx(b).GetEndAtomIdx())\n",
    "\n",
    "    enlargedEnv = set()\n",
    "    for atom in atomsToUse:\n",
    "        a = mol.GetAtomWithIdx(atom)\n",
    "        for b in a.GetBonds():\n",
    "          bidx = b.GetIdx()\n",
    "          if bidx not in env:\n",
    "            enlargedEnv.add(bidx)\n",
    "\n",
    "    enlargedEnv = list(enlargedEnv)\n",
    "    enlargedEnv += env\n",
    "\n",
    "    # find all relevant neighbors\n",
    "    anyAtoms = []\n",
    "    for a in atomsToUse:\n",
    "        neighbors = mol.GetAtomWithIdx(a).GetNeighbors()\n",
    "        for n in neighbors:\n",
    "            anyIdx = n.GetIdx()\n",
    "            if anyIdx not in atomsToUse:\n",
    "                anyAtoms.append(anyIdx)\n",
    "\n",
    "    # replace atomic number to zero (there is no number for any atom)\n",
    "    for aA in anyAtoms:\n",
    "        mol.GetAtomWithIdx(aA).SetAtomicNum(0)\n",
    "\n",
    "    submol = Chem.PathToSubmol(mol, enlargedEnv)\n",
    "\n",
    "    # change [0] to *\n",
    "    MorganBitSmiles = Chem.MolToSmiles(submol)\n",
    "    MorganBitSmarts = Chem.MolToSmarts(submol).replace('[#0]', '*')\n",
    "    return MorganBitSmiles, MorganBitSmarts\n",
    "\n",
    "\n",
    "\n",
    "def visualize_bits(mol):\n",
    "    bi = {}\n",
    "    fp = rdMolDescriptors.GetMorganFingerprintAsBitVect(mol, radius=2, nBits=256, bitInfo=bi)\n",
    "    tpls = [(mol, x, bi) for x in fp.GetOnBits()]\n",
    "    img = Draw.DrawMorganBits(tpls, molsPerRow=10, legends=[str(x) for x in fp.GetOnBits()], drawOptions=drawOptions)\n",
    "    plt.figure(figsize=(10, 10))\n",
    "    plt.title(\"Morgan Fingerprint Visualization\")\n",
    "    plt.imshow(img)\n",
    "    plt.axis('off')\n",
    "    plt.show()"
   ]
  },
  {
   "cell_type": "code",
   "execution_count": 8,
   "metadata": {
    "ExecuteTime": {
     "end_time": "2024-11-29T08:24:01.680858Z",
     "start_time": "2024-11-29T08:24:01.535226Z"
    }
   },
   "outputs": [
    {
     "data": {
      "image/png": "[encoded data removed]",
      "text/plain": [
       "<Figure size 1000x1000 with 1 Axes>"
      ]
     },
     "metadata": {},
     "output_type": "display_data"
    }
   ],
   "source": [
    "visualize_bits(molecule)"
   ]
  },
  {
   "cell_type": "markdown",
   "metadata": {},
   "source": [
    "### c) 물리화학적 특성 기반 접근: Descriptor\n",
    "Descriptor는 분자의 화학적, 물리적, 또는 생물학적 특성을 수치화한 __정량적 표현__ 값이다.\n",
    "\n",
    "즉, 분자 구조와 관련된 정보를 수학적으로 변환하는 것이다.\n",
    "\n",
    "간단한 예시로, 분자량 (Weight)는 분자를 구성하는 원자들의 무게 합을 의미한다.\n",
    "\n",
    "LogP는 분자의 친수성/소수성 지표를 나타내는 값으로 용해도와 직접적으로 관련있는 수치이다.\n",
    "\n",
    "Hydrogen Bond Donor/Acceptor는 분자가 수소 결합을 할 때, 어떤 원소가 전자를 주는/받는 입장인지 구분하고 그 개수를 계산한 것이다.\n",
    "\n",
    "분자의 Descriptor는 매우 다양하며, RDKit 라이브러리를 사용하면 최대 210가지 정보를 계산할 수 있다.\n",
    "\n",
    "> **Tip**: Descriptor를 머신러닝 모델에 학습시키기 위해서는 서로 다른 단위를 가진 Descriptor들의 **스케일을 조정**해야 한다는 점을 기억하자!"
   ]
  },
  {
   "cell_type": "code",
   "execution_count": 9,
   "metadata": {
    "ExecuteTime": {
     "end_time": "2024-11-29T08:24:02.227614Z",
     "start_time": "2024-11-29T08:24:02.222536Z"
    }
   },
   "outputs": [
    {
     "name": "stdout",
     "output_type": "stream",
     "text": [
      "Molecular Descriptors:\n",
      "Molecular Weight: 334.39700000000005\n",
      "LogP: 0.8607999999999993\n",
      "Number of Hydrogen Bond Donors: 2\n",
      "Number of Hydrogen Bond Acceptors: 4\n"
     ]
    }
   ],
   "source": [
    "descriptors = {\n",
    "    \"Molecular Weight\": Descriptors.MolWt(molecule),\n",
    "    \"LogP\": Descriptors.MolLogP(molecule),\n",
    "    \"Number of Hydrogen Bond Donors\": Descriptors.NumHDonors(molecule),\n",
    "    \"Number of Hydrogen Bond Acceptors\": Descriptors.NumHAcceptors(molecule),\n",
    "}\n",
    "print(\"Molecular Descriptors:\")\n",
    "for key, value in descriptors.items():\n",
    "    print(f\"{key}: {value}\")"
   ]
  },
  {
   "cell_type": "code",
   "execution_count": 10,
   "metadata": {
    "ExecuteTime": {
     "end_time": "2024-11-29T08:24:02.559869Z",
     "start_time": "2024-11-29T08:24:02.544365Z"
    }
   },
   "outputs": [
    {
     "name": "stdout",
     "output_type": "stream",
     "text": [
      "전체 Descriptors (210가지) :\n"
     ]
    },
    {
     "data": {
      "text/plain": [
       "{'MaxAbsEStateIndex': 12.268318846056943,\n",
       " 'MaxEStateIndex': 12.268318846056943,\n",
       " 'MinAbsEStateIndex': 0.20214151864449437,\n",
       " 'MinEStateIndex': -1.007025845576982,\n",
       " 'qed': 0.7977632704521286,\n",
       " 'SPS': 28.0,\n",
       " 'MolWt': 334.39700000000005,\n",
       " 'HeavyAtomMolWt': 316.25300000000004,\n",
       " 'ExactMolWt': 334.09872805599997,\n",
       " 'NumValenceElectrons': 122,\n",
       " 'NumRadicalElectrons': 0,\n",
       " 'MaxPartialCharge': 0.3273993847026587,\n",
       " 'MinPartialCharge': -0.4796728023655438,\n",
       " 'MaxAbsPartialCharge': 0.4796728023655438,\n",
       " 'MinAbsPartialCharge': 0.3273993847026587,\n",
       " 'FpDensityMorgan1': 1.3043478260869565,\n",
       " 'FpDensityMorgan2': 1.9565217391304348,\n",
       " 'FpDensityMorgan3': 2.5652173913043477,\n",
       " 'BCUT2D_MWHI': 32.16690614916108,\n",
       " 'BCUT2D_MWLOW': 9.956816977411961,\n",
       " 'BCUT2D_CHGHI': 2.6362075433409933,\n",
       " 'BCUT2D_CHGLO': -2.4313369018698783,\n",
       " 'BCUT2D_LOGPHI': 2.5022450893783947,\n",
       " 'BCUT2D_LOGPLOW': -2.7029184926640752,\n",
       " 'BCUT2D_MRHI': 8.013146257169787,\n",
       " 'BCUT2D_MRLOW': -0.16058803827234566,\n",
       " 'AvgIpc': 2.741987834077,\n",
       " 'BalabanJ': 1.66490359617118,\n",
       " 'BertzCT': 661.3038986246087,\n",
       " 'Chi0': 16.775656403009393,\n",
       " 'Chi0n': 12.853329287558925,\n",
       " 'Chi0v': 13.669825868486651,\n",
       " 'Chi1': 10.809367635193633,\n",
       " 'Chi1n': 7.371634471739615,\n",
       " 'Chi1v': 8.25128728299451,\n",
       " 'Chi2n': 6.305705976733618,\n",
       " 'Chi2v': 8.07659111610618,\n",
       " 'Chi3n': 4.198926417267648,\n",
       " 'Chi3v': 5.770457012115133,\n",
       " 'Chi4n': 3.1511383951469214,\n",
       " 'Chi4v': 4.77653498475625,\n",
       " 'HallKierAlpha': -2.0199999999999996,\n",
       " 'Ipc': 129114.72313101777,\n",
       " 'Kappa1': 15.859752401338886,\n",
       " 'Kappa2': 5.559882097428593,\n",
       " 'Kappa3': 2.6923858356032686,\n",
       " 'LabuteASA': 137.78076788790858,\n",
       " 'PEOE_VSA1': 15.323225729697514,\n",
       " 'PEOE_VSA10': 17.45755447126466,\n",
       " 'PEOE_VSA11': 0.0,\n",
       " 'PEOE_VSA12': 11.814359458703011,\n",
       " 'PEOE_VSA13': 0.0,\n",
       " 'PEOE_VSA14': 5.969305287951849,\n",
       " 'PEOE_VSA2': 9.589074368143644,\n",
       " 'PEOE_VSA3': 4.794537184071822,\n",
       " 'PEOE_VSA4': 0.0,\n",
       " 'PEOE_VSA5': 11.761884949391115,\n",
       " 'PEOE_VSA6': 30.33183534230805,\n",
       " 'PEOE_VSA7': 19.410925891078243,\n",
       " 'PEOE_VSA8': 4.747022453217559,\n",
       " 'PEOE_VSA9': 6.4208216229260096,\n",
       " 'SMR_VSA1': 19.490138947056174,\n",
       " 'SMR_VSA10': 29.545549696045974,\n",
       " 'SMR_VSA2': 0.0,\n",
       " 'SMR_VSA3': 10.216698334856808,\n",
       " 'SMR_VSA4': 0.0,\n",
       " 'SMR_VSA5': 42.47287294678948,\n",
       " 'SMR_VSA6': 0.0,\n",
       " 'SMR_VSA7': 35.89528683400505,\n",
       " 'SMR_VSA8': 0.0,\n",
       " 'SMR_VSA9': 0.0,\n",
       " 'SlogP_VSA1': 5.316788604006331,\n",
       " 'SlogP_VSA10': 0.0,\n",
       " 'SlogP_VSA11': 0.0,\n",
       " 'SlogP_VSA12': 11.761884949391115,\n",
       " 'SlogP_VSA2': 49.99467879682826,\n",
       " 'SlogP_VSA3': 20.804433175141476,\n",
       " 'SlogP_VSA4': 0.0,\n",
       " 'SlogP_VSA5': 19.410925891078243,\n",
       " 'SlogP_VSA6': 30.33183534230805,\n",
       " 'SlogP_VSA7': 0.0,\n",
       " 'SlogP_VSA8': 0.0,\n",
       " 'SlogP_VSA9': 0.0,\n",
       " 'TPSA': 86.71000000000001,\n",
       " 'EState_VSA1': 22.80000939946533,\n",
       " 'EState_VSA10': 19.490138947056174,\n",
       " 'EState_VSA11': 0.0,\n",
       " 'EState_VSA2': 23.60905389459776,\n",
       " 'EState_VSA3': 0.0,\n",
       " 'EState_VSA4': 5.563451491696996,\n",
       " 'EState_VSA5': 16.66179468024159,\n",
       " 'EState_VSA6': 0.0,\n",
       " 'EState_VSA7': 44.179309741689295,\n",
       " 'EState_VSA8': 5.316788604006331,\n",
       " 'EState_VSA9': 0.0,\n",
       " 'VSA_EState1': -0.5783058915140895,\n",
       " 'VSA_EState10': 1.4237074305030653,\n",
       " 'VSA_EState2': 37.19097428557031,\n",
       " 'VSA_EState3': 11.789438746504459,\n",
       " 'VSA_EState4': 0.8717091967960026,\n",
       " 'VSA_EState5': -1.5549260303422459,\n",
       " 'VSA_EState6': 7.784420219356602,\n",
       " 'VSA_EState7': 0.20214151864449437,\n",
       " 'VSA_EState8': 3.6208405244813977,\n",
       " 'VSA_EState9': 0.0,\n",
       " 'FractionCSP3': 0.4375,\n",
       " 'HeavyAtomCount': 23,\n",
       " 'NHOHCount': 2,\n",
       " 'NOCount': 6,\n",
       " 'NumAliphaticCarbocycles': 0,\n",
       " 'NumAliphaticHeterocycles': 2,\n",
       " 'NumAliphaticRings': 2,\n",
       " 'NumAromaticCarbocycles': 1,\n",
       " 'NumAromaticHeterocycles': 0,\n",
       " 'NumAromaticRings': 1,\n",
       " 'NumHAcceptors': 4,\n",
       " 'NumHDonors': 2,\n",
       " 'NumHeteroatoms': 7,\n",
       " 'NumRotatableBonds': 4,\n",
       " 'NumSaturatedCarbocycles': 0,\n",
       " 'NumSaturatedHeterocycles': 2,\n",
       " 'NumSaturatedRings': 2,\n",
       " 'RingCount': 3,\n",
       " 'MolLogP': 0.8607999999999993,\n",
       " 'MolMR': 85.80450000000003,\n",
       " 'fr_Al_COO': 1,\n",
       " 'fr_Al_OH': 0,\n",
       " 'fr_Al_OH_noTert': 0,\n",
       " 'fr_ArN': 0,\n",
       " 'fr_Ar_COO': 0,\n",
       " 'fr_Ar_N': 0,\n",
       " 'fr_Ar_NH': 0,\n",
       " 'fr_Ar_OH': 0,\n",
       " 'fr_COO': 1,\n",
       " 'fr_COO2': 1,\n",
       " 'fr_C_O': 3,\n",
       " 'fr_C_O_noCOO': 2,\n",
       " 'fr_C_S': 0,\n",
       " 'fr_HOCCN': 0,\n",
       " 'fr_Imine': 0,\n",
       " 'fr_NH0': 1,\n",
       " 'fr_NH1': 1,\n",
       " 'fr_NH2': 0,\n",
       " 'fr_N_O': 0,\n",
       " 'fr_Ndealkylation1': 0,\n",
       " 'fr_Ndealkylation2': 0,\n",
       " 'fr_Nhpyrrole': 0,\n",
       " 'fr_SH': 0,\n",
       " 'fr_aldehyde': 0,\n",
       " 'fr_alkyl_carbamate': 0,\n",
       " 'fr_alkyl_halide': 0,\n",
       " 'fr_allylic_oxid': 0,\n",
       " 'fr_amide': 2,\n",
       " 'fr_amidine': 0,\n",
       " 'fr_aniline': 0,\n",
       " 'fr_aryl_methyl': 0,\n",
       " 'fr_azide': 0,\n",
       " 'fr_azo': 0,\n",
       " 'fr_barbitur': 0,\n",
       " 'fr_benzene': 1,\n",
       " 'fr_benzodiazepine': 0,\n",
       " 'fr_bicyclic': 1,\n",
       " 'fr_diazo': 0,\n",
       " 'fr_dihydropyridine': 0,\n",
       " 'fr_epoxide': 0,\n",
       " 'fr_ester': 0,\n",
       " 'fr_ether': 0,\n",
       " 'fr_furan': 0,\n",
       " 'fr_guanido': 0,\n",
       " 'fr_halogen': 0,\n",
       " 'fr_hdrzine': 0,\n",
       " 'fr_hdrzone': 0,\n",
       " 'fr_imidazole': 0,\n",
       " 'fr_imide': 0,\n",
       " 'fr_isocyan': 0,\n",
       " 'fr_isothiocyan': 0,\n",
       " 'fr_ketone': 0,\n",
       " 'fr_ketone_Topliss': 0,\n",
       " 'fr_lactam': 1,\n",
       " 'fr_lactone': 0,\n",
       " 'fr_methoxy': 0,\n",
       " 'fr_morpholine': 0,\n",
       " 'fr_nitrile': 0,\n",
       " 'fr_nitro': 0,\n",
       " 'fr_nitro_arom': 0,\n",
       " 'fr_nitro_arom_nonortho': 0,\n",
       " 'fr_nitroso': 0,\n",
       " 'fr_oxazole': 0,\n",
       " 'fr_oxime': 0,\n",
       " 'fr_para_hydroxylation': 0,\n",
       " 'fr_phenol': 0,\n",
       " 'fr_phenol_noOrthoHbond': 0,\n",
       " 'fr_phos_acid': 0,\n",
       " 'fr_phos_ester': 0,\n",
       " 'fr_piperdine': 0,\n",
       " 'fr_piperzine': 0,\n",
       " 'fr_priamide': 0,\n",
       " 'fr_prisulfonamd': 0,\n",
       " 'fr_pyridine': 0,\n",
       " 'fr_quatN': 0,\n",
       " 'fr_sulfide': 1,\n",
       " 'fr_sulfonamd': 0,\n",
       " 'fr_sulfone': 0,\n",
       " 'fr_term_acetylene': 0,\n",
       " 'fr_tetrazole': 0,\n",
       " 'fr_thiazole': 0,\n",
       " 'fr_thiocyan': 0,\n",
       " 'fr_thiophene': 0,\n",
       " 'fr_unbrch_alkane': 0,\n",
       " 'fr_urea': 0}"
      ]
     },
     "execution_count": 10,
     "metadata": {},
     "output_type": "execute_result"
    }
   ],
   "source": [
    "print('전체 Descriptors (210가지) :')\n",
    "Descriptors.CalcMolDescriptors(molecule)"
   ]
  },
  {
   "cell_type": "markdown",
   "metadata": {},
   "source": [
    "### d) 이미지 기반 접근: 2D, 3D 이미지\n",
    "분자 구조를 이미지 형식으로 변환하여 딥러닝 모델을 학습시키는 경우도 있다.\n",
    "\n",
    "이 접근법은 분자 구조의 시각적 패턴을 학습하여 예측 작업을 수행할 수 있게 한다.\n",
    "\n",
    "특히, CNN(Convolutional Neural Network)과 같은 이미지 처리에 특화된 모델에서 이 방식을 활용한다.\n",
    "\n",
    "> **Tip**: 주의할 점으로 분자는 고정된 자세가 없으며, 3차원 형태도 있다는 것이다!"
   ]
  },
  {
   "cell_type": "markdown",
   "metadata": {},
   "source": [
    "< 2D 이미지 >"
   ]
  },
  {
   "cell_type": "code",
   "execution_count": 11,
   "metadata": {
    "ExecuteTime": {
     "end_time": "2024-11-29T08:24:03.707519Z",
     "start_time": "2024-11-29T08:24:03.680607Z"
    }
   },
   "outputs": [
    {
     "data": {
      "image/png": "[encoded data removed]",
      "text/plain": [
       "<Figure size 640x480 with 1 Axes>"
      ]
     },
     "metadata": {},
     "output_type": "display_data"
    }
   ],
   "source": [
    "img = Draw.MolToImage(molecule)\n",
    "plt.imshow(img)\n",
    "plt.axis(\"off\")\n",
    "plt.show()"
   ]
  },
  {
   "cell_type": "code",
   "execution_count": 12,
   "metadata": {
    "ExecuteTime": {
     "end_time": "2024-11-29T08:24:04.034752Z",
     "start_time": "2024-11-29T08:24:04.029265Z"
    }
   },
   "outputs": [
    {
     "name": "stdout",
     "output_type": "stream",
     "text": [
      "2D image saved as 'molecule_2D.png\n"
     ]
    }
   ],
   "source": [
    "img.save(\"molecule_2D.png\")\n",
    "print(\"2D image saved as 'molecule_2D.png\")"
   ]
  },
  {
   "cell_type": "markdown",
   "metadata": {},
   "source": [
    "< 3D 이미지 >\n",
    "\n",
    "Jupyter Notebook에서 molecule_3d 변수를 입력하면 3차원 그림이 자동으로 표시된다. \n",
    "\n",
    "이는 Notebook 환경에서 특정 라이브러리가 활성화되어 있기 때문이다. \n",
    "\n",
    "그렇기에, 3차원 분자 이미지를 파일로 저장하려면 별도의 작업 과정이 필요하다.\n",
    "\n",
    "> **Tip**: 3차원 분자를 표현하기 위해서는 암묵적으로 표시하지 않았던 수소 원자들을 모두 명시적으로 활성화 시킨 후 작업을 진행해야 하기에\n",
    "  2차원 분자에서 보이지 않았던 수소 원자들이 표시될 수 있다. (흰색-수소, 회색-탄소, 붉은색-산소, 파란색-질소, 노란색-황)"
   ]
  },
  {
   "cell_type": "code",
   "execution_count": 13,
   "metadata": {
    "ExecuteTime": {
     "end_time": "2024-11-29T08:24:04.674703Z",
     "start_time": "2024-11-29T08:24:04.633696Z"
    }
   },
   "outputs": [
    {
     "name": "stdout",
     "output_type": "stream",
     "text": [
      "origin atom: [(0, 'C'), (1, 'C'), (2, 'C'), (3, 'N'), (4, 'C'), (5, 'S'), (6, 'C'), (7, 'C'), (8, 'O'), (9, 'N'), (10, 'C'), (11, 'O'), (12, 'C'), (13, 'C'), (14, 'C'), (15, 'C'), (16, 'C'), (17, 'C'), (18, 'C'), (19, 'C'), (20, 'O'), (21, 'O'), (22, 'C')]\n",
      "\n"
     ]
    },
    {
     "data": {
      "application/3dmoljs_load.v0": "<div id=\"3dmolviewer_17363396899781532\"  style=\"position: relative; width: 400px; height: 400px;\">\n        <p id=\"3dmolwarning_17363396899781532\" style=\"background-color:#ffcccc;color:black\">3Dmol.js failed to load for some reason.  Please check your browser console for error messages.<br></p>\n        </div>\n<script>\n\nvar loadScriptAsync = function(uri){\n  return new Promise((resolve, reject) => {\n    //this is to ignore the existence of requirejs amd\n    var savedexports, savedmodule;\n    if (typeof exports !== 'undefined') savedexports = exports;\n    else exports = {}\n    if (typeof module !== 'undefined') savedmodule = module;\n    else module = {}\n\n    var tag = document.createElement('script');\n    tag.src = uri;\n    tag.async = true;\n    tag.onload = () => {\n        exports = savedexports;\n        module = savedmodule;\n        resolve();\n    };\n  var firstScriptTag = document.getElementsByTagName('script')[0];\n  firstScriptTag.parentNode.insertBefore(tag, firstScriptTag);\n});\n};\n\nif(typeof $3Dmolpromise === 'undefined') {\n$3Dmolpromise = null;\n  $3Dmolpromise = loadScriptAsync('https://cdnjs.cloudflare.com/ajax/libs/3Dmol/2.4.2/3Dmol-min.js');\n}\n\nvar viewer_17363396899781532 = null;\nvar warn = document.getElementById(\"3dmolwarning_17363396899781532\");\nif(warn) {\n    warn.parentNode.removeChild(warn);\n}\n$3Dmolpromise.then(function() {\nviewer_17363396899781532 = $3Dmol.createViewer(document.getElementById(\"3dmolviewer_17363396899781532\"),{backgroundColor:\"white\"});\nviewer_17363396899781532.zoomTo();\n\tviewer_17363396899781532.removeAllModels();\n\tviewer_17363396899781532.addModel(\"\\n     RDKit          3D\\n\\n 41 43  0  0  0  0  0  0  0  0999 V2000\\n    4.7771   -0.5060   -0.4381 C   0  0  0  0  0  0  0  0  0  0  0  0\\n    3.6782    0.4710   -0.2255 C   0  0  0  0  0  0  0  0  0  0  0  0\\n    2.9680    0.2279    1.0463 C   0  0  1  0  0  0  0  0  0  0  0  0\\n    2.0558   -0.8289    0.9596 N   0  0  0  0  0  0  0  0  0  0  0  0\\n    1.7847   -1.2853   -0.4141 C   0  0  2  0  0  0  0  0  0  0  0  0\\n    2.2616    0.1542   -1.3709 S   0  0  0  0  0  0  0  0  0  0  0  0\\n    0.4036   -1.4870    0.0422 C   0  0  1  0  0  0  0  0  0  0  0  0\\n    1.1156   -1.8602    1.3341 C   0  0  0  0  0  0  0  0  0  0  0  0\\n    0.9507   -2.6734    2.2630 O   0  0  0  0  0  0  0  0  0  0  0  0\\n   -0.4423   -0.3286    0.2031 N   0  0  0  0  0  0  0  0  0  0  0  0\\n   -1.8319   -0.4311   -0.0906 C   0  0  0  0  0  0  0  0  0  0  0  0\\n   -2.3754   -1.4927   -0.4898 O   0  0  0  0  0  0  0  0  0  0  0  0\\n   -2.6677    0.7863    0.0887 C   0  0  0  0  0  0  0  0  0  0  0  0\\n   -4.0795    0.5349   -0.2507 C   0  0  0  0  0  0  0  0  0  0  0  0\\n   -4.9273    0.1027    0.7486 C   0  0  0  0  0  0  0  0  0  0  0  0\\n   -6.2620   -0.1550    0.5129 C   0  0  0  0  0  0  0  0  0  0  0  0\\n   -6.7970    0.0135   -0.7441 C   0  0  0  0  0  0  0  0  0  0  0  0\\n   -5.9494    0.4465   -1.7471 C   0  0  0  0  0  0  0  0  0  0  0  0\\n   -4.6113    0.7061   -1.5164 C   0  0  0  0  0  0  0  0  0  0  0  0\\n    3.9103   -0.0839    2.1791 C   0  0  0  0  0  0  0  0  0  0  0  0\\n    3.7873   -1.1482    2.8529 O   0  0  0  0  0  0  0  0  0  0  0  0\\n    4.9422    0.7923    2.5142 O   0  0  0  0  0  0  0  0  0  0  0  0\\n    4.0927    1.9131   -0.3663 C   0  0  0  0  0  0  0  0  0  0  0  0\\n    4.5863   -1.2608   -1.2173 H   0  0  0  0  0  0  0  0  0  0  0  0\\n    5.7248    0.0498   -0.5980 H   0  0  0  0  0  0  0  0  0  0  0  0\\n    4.9447   -1.1020    0.5032 H   0  0  0  0  0  0  0  0  0  0  0  0\\n    2.5269    1.2167    1.3420 H   0  0  0  0  0  0  0  0  0  0  0  0\\n    2.2721   -2.2094   -0.7144 H   0  0  0  0  0  0  0  0  0  0  0  0\\n   -0.1064   -2.4007   -0.3094 H   0  0  0  0  0  0  0  0  0  0  0  0\\n    0.0159    0.5496    0.5350 H   0  0  0  0  0  0  0  0  0  0  0  0\\n   -2.5902    1.0577    1.1677 H   0  0  0  0  0  0  0  0  0  0  0  0\\n   -2.2493    1.6484   -0.5047 H   0  0  0  0  0  0  0  0  0  0  0  0\\n   -4.5396   -0.0420    1.7565 H   0  0  0  0  0  0  0  0  0  0  0  0\\n   -6.9158   -0.4943    1.3095 H   0  0  0  0  0  0  0  0  0  0  0  0\\n   -7.8522   -0.1877   -0.9411 H   0  0  0  0  0  0  0  0  0  0  0  0\\n   -6.3712    0.5772   -2.7291 H   0  0  0  0  0  0  0  0  0  0  0  0\\n   -3.9688    1.0435   -2.3158 H   0  0  0  0  0  0  0  0  0  0  0  0\\n    5.2571    0.8872    3.4919 H   0  0  0  0  0  0  0  0  0  0  0  0\\n    4.7668    2.1783    0.4471 H   0  0  0  0  0  0  0  0  0  0  0  0\\n    3.1448    2.5183   -0.3427 H   0  0  0  0  0  0  0  0  0  0  0  0\\n    4.5702    2.1018   -1.3344 H   0  0  0  0  0  0  0  0  0  0  0  0\\n  1  2  1  0\\n  2  3  1  0\\n  3  4  1  0\\n  4  5  1  0\\n  5  6  1  0\\n  5  7  1  0\\n  7  8  1  0\\n  8  9  2  0\\n  7 10  1  0\\n 10 11  1  0\\n 11 12  2  0\\n 11 13  1  0\\n 13 14  1  0\\n 14 15  2  0\\n 15 16  1  0\\n 16 17  2  0\\n 17 18  1  0\\n 18 19  2  0\\n  3 20  1  0\\n 20 21  2  0\\n 20 22  1  0\\n  2 23  1  0\\n  6  2  1  0\\n  8  4  1  0\\n 19 14  1  0\\n  1 24  1  0\\n  1 25  1  0\\n  1 26  1  0\\n  3 27  1  1\\n  5 28  1  6\\n  7 29  1  6\\n 10 30  1  0\\n 13 31  1  0\\n 13 32  1  0\\n 15 33  1  0\\n 16 34  1  0\\n 17 35  1  0\\n 18 36  1  0\\n 19 37  1  0\\n 22 38  1  0\\n 23 39  1  0\\n 23 40  1  0\\n 23 41  1  0\\nM  END\\n\",\"sdf\");\n\tviewer_17363396899781532.setStyle({\"stick\": {}});\n\tviewer_17363396899781532.setBackgroundColor(\"0xeeeeee\");\n\tviewer_17363396899781532.zoomTo();\nviewer_17363396899781532.render();\n});\n</script>",
      "text/html": [
       "<div id=\"3dmolviewer_17363396899781532\"  style=\"position: relative; width: 400px; height: 400px;\">\n",
       "        <p id=\"3dmolwarning_17363396899781532\" style=\"background-color:#ffcccc;color:black\">3Dmol.js failed to load for some reason.  Please check your browser console for error messages.<br></p>\n",
       "        </div>\n",
       "<script>\n",
       "\n",
       "var loadScriptAsync = function(uri){\n",
       "  return new Promise((resolve, reject) => {\n",
       "    //this is to ignore the existence of requirejs amd\n",
       "    var savedexports, savedmodule;\n",
       "    if (typeof exports !== 'undefined') savedexports = exports;\n",
       "    else exports = {}\n",
       "    if (typeof module !== 'undefined') savedmodule = module;\n",
       "    else module = {}\n",
       "\n",
       "    var tag = document.createElement('script');\n",
       "    tag.src = uri;\n",
       "    tag.async = true;\n",
       "    tag.onload = () => {\n",
       "        exports = savedexports;\n",
       "        module = savedmodule;\n",
       "        resolve();\n",
       "    };\n",
       "  var firstScriptTag = document.getElementsByTagName('script')[0];\n",
       "  firstScriptTag.parentNode.insertBefore(tag, firstScriptTag);\n",
       "});\n",
       "};\n",
       "\n",
       "if(typeof $3Dmolpromise === 'undefined') {\n",
       "$3Dmolpromise = null;\n",
       "  $3Dmolpromise = loadScriptAsync('https://cdnjs.cloudflare.com/ajax/libs/3Dmol/2.4.2/3Dmol-min.js');\n",
       "}\n",
       "\n",
       "var viewer_17363396899781532 = null;\n",
       "var warn = document.getElementById(\"3dmolwarning_17363396899781532\");\n",
       "if(warn) {\n",
       "    warn.parentNode.removeChild(warn);\n",
       "}\n",
       "$3Dmolpromise.then(function() {\n",
       "viewer_17363396899781532 = $3Dmol.createViewer(document.getElementById(\"3dmolviewer_17363396899781532\"),{backgroundColor:\"white\"});\n",
       "viewer_17363396899781532.zoomTo();\n",
       "\tviewer_17363396899781532.removeAllModels();\n",
       "\tviewer_17363396899781532.addModel(\"\\n     RDKit          3D\\n\\n 41 43  0  0  0  0  0  0  0  0999 V2000\\n    4.7771   -0.5060   -0.4381 C   0  0  0  0  0  0  0  0  0  0  0  0\\n    3.6782    0.4710   -0.2255 C   0  0  0  0  0  0  0  0  0  0  0  0\\n    2.9680    0.2279    1.0463 C   0  0  1  0  0  0  0  0  0  0  0  0\\n    2.0558   -0.8289    0.9596 N   0  0  0  0  0  0  0  0  0  0  0  0\\n    1.7847   -1.2853   -0.4141 C   0  0  2  0  0  0  0  0  0  0  0  0\\n    2.2616    0.1542   -1.3709 S   0  0  0  0  0  0  0  0  0  0  0  0\\n    0.4036   -1.4870    0.0422 C   0  0  1  0  0  0  0  0  0  0  0  0\\n    1.1156   -1.8602    1.3341 C   0  0  0  0  0  0  0  0  0  0  0  0\\n    0.9507   -2.6734    2.2630 O   0  0  0  0  0  0  0  0  0  0  0  0\\n   -0.4423   -0.3286    0.2031 N   0  0  0  0  0  0  0  0  0  0  0  0\\n   -1.8319   -0.4311   -0.0906 C   0  0  0  0  0  0  0  0  0  0  0  0\\n   -2.3754   -1.4927   -0.4898 O   0  0  0  0  0  0  0  0  0  0  0  0\\n   -2.6677    0.7863    0.0887 C   0  0  0  0  0  0  0  0  0  0  0  0\\n   -4.0795    0.5349   -0.2507 C   0  0  0  0  0  0  0  0  0  0  0  0\\n   -4.9273    0.1027    0.7486 C   0  0  0  0  0  0  0  0  0  0  0  0\\n   -6.2620   -0.1550    0.5129 C   0  0  0  0  0  0  0  0  0  0  0  0\\n   -6.7970    0.0135   -0.7441 C   0  0  0  0  0  0  0  0  0  0  0  0\\n   -5.9494    0.4465   -1.7471 C   0  0  0  0  0  0  0  0  0  0  0  0\\n   -4.6113    0.7061   -1.5164 C   0  0  0  0  0  0  0  0  0  0  0  0\\n    3.9103   -0.0839    2.1791 C   0  0  0  0  0  0  0  0  0  0  0  0\\n    3.7873   -1.1482    2.8529 O   0  0  0  0  0  0  0  0  0  0  0  0\\n    4.9422    0.7923    2.5142 O   0  0  0  0  0  0  0  0  0  0  0  0\\n    4.0927    1.9131   -0.3663 C   0  0  0  0  0  0  0  0  0  0  0  0\\n    4.5863   -1.2608   -1.2173 H   0  0  0  0  0  0  0  0  0  0  0  0\\n    5.7248    0.0498   -0.5980 H   0  0  0  0  0  0  0  0  0  0  0  0\\n    4.9447   -1.1020    0.5032 H   0  0  0  0  0  0  0  0  0  0  0  0\\n    2.5269    1.2167    1.3420 H   0  0  0  0  0  0  0  0  0  0  0  0\\n    2.2721   -2.2094   -0.7144 H   0  0  0  0  0  0  0  0  0  0  0  0\\n   -0.1064   -2.4007   -0.3094 H   0  0  0  0  0  0  0  0  0  0  0  0\\n    0.0159    0.5496    0.5350 H   0  0  0  0  0  0  0  0  0  0  0  0\\n   -2.5902    1.0577    1.1677 H   0  0  0  0  0  0  0  0  0  0  0  0\\n   -2.2493    1.6484   -0.5047 H   0  0  0  0  0  0  0  0  0  0  0  0\\n   -4.5396   -0.0420    1.7565 H   0  0  0  0  0  0  0  0  0  0  0  0\\n   -6.9158   -0.4943    1.3095 H   0  0  0  0  0  0  0  0  0  0  0  0\\n   -7.8522   -0.1877   -0.9411 H   0  0  0  0  0  0  0  0  0  0  0  0\\n   -6.3712    0.5772   -2.7291 H   0  0  0  0  0  0  0  0  0  0  0  0\\n   -3.9688    1.0435   -2.3158 H   0  0  0  0  0  0  0  0  0  0  0  0\\n    5.2571    0.8872    3.4919 H   0  0  0  0  0  0  0  0  0  0  0  0\\n    4.7668    2.1783    0.4471 H   0  0  0  0  0  0  0  0  0  0  0  0\\n    3.1448    2.5183   -0.3427 H   0  0  0  0  0  0  0  0  0  0  0  0\\n    4.5702    2.1018   -1.3344 H   0  0  0  0  0  0  0  0  0  0  0  0\\n  1  2  1  0\\n  2  3  1  0\\n  3  4  1  0\\n  4  5  1  0\\n  5  6  1  0\\n  5  7  1  0\\n  7  8  1  0\\n  8  9  2  0\\n  7 10  1  0\\n 10 11  1  0\\n 11 12  2  0\\n 11 13  1  0\\n 13 14  1  0\\n 14 15  2  0\\n 15 16  1  0\\n 16 17  2  0\\n 17 18  1  0\\n 18 19  2  0\\n  3 20  1  0\\n 20 21  2  0\\n 20 22  1  0\\n  2 23  1  0\\n  6  2  1  0\\n  8  4  1  0\\n 19 14  1  0\\n  1 24  1  0\\n  1 25  1  0\\n  1 26  1  0\\n  3 27  1  1\\n  5 28  1  6\\n  7 29  1  6\\n 10 30  1  0\\n 13 31  1  0\\n 13 32  1  0\\n 15 33  1  0\\n 16 34  1  0\\n 17 35  1  0\\n 18 36  1  0\\n 19 37  1  0\\n 22 38  1  0\\n 23 39  1  0\\n 23 40  1  0\\n 23 41  1  0\\nM  END\\n\",\"sdf\");\n",
       "\tviewer_17363396899781532.setStyle({\"stick\": {}});\n",
       "\tviewer_17363396899781532.setBackgroundColor(\"0xeeeeee\");\n",
       "\tviewer_17363396899781532.zoomTo();\n",
       "viewer_17363396899781532.render();\n",
       "});\n",
       "</script>"
      ]
     },
     "metadata": {},
     "output_type": "display_data"
    },
    {
     "data": {
      "image/png": "[encoded data removed]",
      "text/html": [],
      "text/plain": [
       "<rdkit.Chem.rdchem.Mol at 0x1e2256ca260>"
      ]
     },
     "execution_count": 13,
     "metadata": {},
     "output_type": "execute_result"
    }
   ],
   "source": [
    "def molecule_to_3d(molecule):\n",
    "    mol = Chem.MolFromSmiles(molecule)\n",
    "    atom_info = [(atom.GetIdx(), atom.GetSymbol()) for atom in mol.GetAtoms()]\n",
    "                 \n",
    "    mol = AllChem.AddHs(mol, addCoords=True)\n",
    "    rdDistGeom.EmbedMolecule(mol)\n",
    "    return mol, atom_info\n",
    "\n",
    "molecule_3d, atom_info = molecule_to_3d(molecule_smiles)\n",
    "print(f'origin atom: {atom_info}\\n')\n",
    "molecule_3d"
   ]
  },
  {
   "cell_type": "code",
   "execution_count": 14,
   "metadata": {
    "ExecuteTime": {
     "end_time": "2024-11-29T08:24:04.972472Z",
     "start_time": "2024-11-29T08:24:04.967963Z"
    }
   },
   "outputs": [
    {
     "data": {
      "application/3dmoljs_load.v0": "<div id=\"3dmolviewer_17363396899904583\"  style=\"position: relative; width: 400px; height: 400px;\">\n        <p id=\"3dmolwarning_17363396899904583\" style=\"background-color:#ffcccc;color:black\">3Dmol.js failed to load for some reason.  Please check your browser console for error messages.<br></p>\n        </div>\n<script>\n\nvar loadScriptAsync = function(uri){\n  return new Promise((resolve, reject) => {\n    //this is to ignore the existence of requirejs amd\n    var savedexports, savedmodule;\n    if (typeof exports !== 'undefined') savedexports = exports;\n    else exports = {}\n    if (typeof module !== 'undefined') savedmodule = module;\n    else module = {}\n\n    var tag = document.createElement('script');\n    tag.src = uri;\n    tag.async = true;\n    tag.onload = () => {\n        exports = savedexports;\n        module = savedmodule;\n        resolve();\n    };\n  var firstScriptTag = document.getElementsByTagName('script')[0];\n  firstScriptTag.parentNode.insertBefore(tag, firstScriptTag);\n});\n};\n\nif(typeof $3Dmolpromise === 'undefined') {\n$3Dmolpromise = null;\n  $3Dmolpromise = loadScriptAsync('https://cdnjs.cloudflare.com/ajax/libs/3Dmol/2.4.2/3Dmol-min.js');\n}\n\nvar viewer_17363396899904583 = null;\nvar warn = document.getElementById(\"3dmolwarning_17363396899904583\");\nif(warn) {\n    warn.parentNode.removeChild(warn);\n}\n$3Dmolpromise.then(function() {\nviewer_17363396899904583 = $3Dmol.createViewer(document.getElementById(\"3dmolviewer_17363396899904583\"),{backgroundColor:\"white\"});\nviewer_17363396899904583.zoomTo();\n\tviewer_17363396899904583.addSphere({\"center\": {\"x\": 4.777111154088039, \"y\": -0.5059551472792387, \"z\": -0.4381352226960041}, \"radius\": 0.3, \"color\": \"gray\"});\n\tviewer_17363396899904583.addSphere({\"center\": {\"x\": 3.6782390163266365, \"y\": 0.47097167167558057, \"z\": -0.22546534708397242}, \"radius\": 0.3, \"color\": \"gray\"});\n\tviewer_17363396899904583.addSphere({\"center\": {\"x\": 2.9680120779747177, \"y\": 0.22794618092484584, \"z\": 1.0463280886805295}, \"radius\": 0.3, \"color\": \"gray\"});\n\tviewer_17363396899904583.addSphere({\"center\": {\"x\": 2.055757125684234, \"y\": -0.8288731277597918, \"z\": 0.9596398206056264}, \"radius\": 0.3, \"color\": \"gray\"});\n\tviewer_17363396899904583.addSphere({\"center\": {\"x\": 1.7846613165540686, \"y\": -1.2852978611545518, \"z\": -0.4141031379783288}, \"radius\": 0.3, \"color\": \"gray\"});\n\tviewer_17363396899904583.addSphere({\"center\": {\"x\": 2.2615527291401656, \"y\": 0.15420144687794538, \"z\": -1.3709418936939128}, \"radius\": 0.3, \"color\": \"gray\"});\n\tviewer_17363396899904583.addSphere({\"center\": {\"x\": 0.40363901677930947, \"y\": -1.486978427153335, \"z\": 0.042193706145834085}, \"radius\": 0.3, \"color\": \"gray\"});\n\tviewer_17363396899904583.addSphere({\"center\": {\"x\": 1.1155745753297657, \"y\": -1.8601703061002473, \"z\": 1.334053803355911}, \"radius\": 0.3, \"color\": \"gray\"});\n\tviewer_17363396899904583.addSphere({\"center\": {\"x\": 0.950743554721335, \"y\": -2.673412600111996, \"z\": 2.2629773198311707}, \"radius\": 0.3, \"color\": \"gray\"});\n\tviewer_17363396899904583.addSphere({\"center\": {\"x\": -0.44227787575854594, \"y\": -0.3286376670337332, \"z\": 0.20313411546639282}, \"radius\": 0.3, \"color\": \"gray\"});\n\tviewer_17363396899904583.addSphere({\"center\": {\"x\": -1.8319242218857947, \"y\": -0.43109286757445753, \"z\": -0.09062009888253876}, \"radius\": 0.3, \"color\": \"gray\"});\n\tviewer_17363396899904583.addSphere({\"center\": {\"x\": -2.375369881014367, \"y\": -1.4926923326167796, \"z\": -0.4898076097013733}, \"radius\": 0.3, \"color\": \"gray\"});\n\tviewer_17363396899904583.addSphere({\"center\": {\"x\": -2.6676531284063127, \"y\": 0.7863417047410696, \"z\": 0.08869417709674944}, \"radius\": 0.3, \"color\": \"gray\"});\n\tviewer_17363396899904583.addSphere({\"center\": {\"x\": -4.079522724253729, \"y\": 0.534880670173417, \"z\": -0.25071582197365977}, \"radius\": 0.3, \"color\": \"gray\"});\n\tviewer_17363396899904583.addSphere({\"center\": {\"x\": -4.927281141426211, \"y\": 0.10269307905929521, \"z\": 0.7485562651138753}, \"radius\": 0.3, \"color\": \"gray\"});\n\tviewer_17363396899904583.addSphere({\"center\": {\"x\": -6.262020263914944, \"y\": -0.1549571643039089, \"z\": 0.5129265862970392}, \"radius\": 0.3, \"color\": \"gray\"});\n\tviewer_17363396899904583.addSphere({\"center\": {\"x\": -6.796954663034393, \"y\": 0.013521579456247055, \"z\": -0.7441346463867178}, \"radius\": 0.3, \"color\": \"gray\"});\n\tviewer_17363396899904583.addSphere({\"center\": {\"x\": -5.949436986428069, \"y\": 0.4465182543496029, \"z\": -1.747101621427021}, \"radius\": 0.3, \"color\": \"gray\"});\n\tviewer_17363396899904583.addSphere({\"center\": {\"x\": -4.611263318522823, \"y\": 0.7061188738457789, \"z\": -1.5163616092591425}, \"radius\": 0.3, \"color\": \"gray\"});\n\tviewer_17363396899904583.addSphere({\"center\": {\"x\": 3.910264036741339, \"y\": -0.08394291318320456, \"z\": 2.1791029554729273}, \"radius\": 0.3, \"color\": \"gray\"});\n\tviewer_17363396899904583.addSphere({\"center\": {\"x\": 3.787259268869511, \"y\": -1.1482326604156436, \"z\": 2.8528954010769487}, \"radius\": 0.3, \"color\": \"gray\"});\n\tviewer_17363396899904583.addSphere({\"center\": {\"x\": 4.942197532170585, \"y\": 0.7922713259446782, \"z\": 2.5141566257555126}, \"radius\": 0.3, \"color\": \"gray\"});\n\tviewer_17363396899904583.addSphere({\"center\": {\"x\": 4.092662689886986, \"y\": 1.913065127395451, \"z\": -0.3663467851886075}, \"radius\": 0.3, \"color\": \"gray\"});\n\tviewer_17363396899904583.addSphere({\"center\": {\"x\": 4.586250901466594, \"y\": -1.2607538463759165, \"z\": -1.2172544265957266}, \"radius\": 0.3, \"color\": \"blue\"});\n\tviewer_17363396899904583.addSphere({\"center\": {\"x\": 5.724771353478765, \"y\": 0.04978830959349767, \"z\": -0.5979922443512672}, \"radius\": 0.3, \"color\": \"blue\"});\n\tviewer_17363396899904583.addSphere({\"center\": {\"x\": 4.9447378058439515, \"y\": -1.1020178302804478, \"z\": 0.5032419426710136}, \"radius\": 0.3, \"color\": \"blue\"});\n\tviewer_17363396899904583.addSphere({\"center\": {\"x\": 2.5268691345855134, \"y\": 1.2167124696612786, \"z\": 1.3420172206567103}, \"radius\": 0.3, \"color\": \"blue\"});\n\tviewer_17363396899904583.addSphere({\"center\": {\"x\": 2.272071713075797, \"y\": -2.20935882969011, \"z\": -0.7143789873463456}, \"radius\": 0.3, \"color\": \"blue\"});\n\tviewer_17363396899904583.addSphere({\"center\": {\"x\": -0.10640177379107338, \"y\": -2.400739106178249, \"z\": -0.3094213647058184}, \"radius\": 0.3, \"color\": \"blue\"});\n\tviewer_17363396899904583.addSphere({\"center\": {\"x\": 0.015911270379693157, \"y\": 0.5496352178947654, \"z\": 0.5350461812363377}, \"radius\": 0.3, \"color\": \"blue\"});\n\tviewer_17363396899904583.addSphere({\"center\": {\"x\": -2.5902270465054418, \"y\": 1.0576830681930212, \"z\": 1.1677202298095684}, \"radius\": 0.3, \"color\": \"blue\"});\n\tviewer_17363396899904583.addSphere({\"center\": {\"x\": -2.24928573758396, \"y\": 1.648404888071092, \"z\": -0.5047421348068359}, \"radius\": 0.3, \"color\": \"blue\"});\n\tviewer_17363396899904583.addSphere({\"center\": {\"x\": -4.539559429484753, \"y\": -0.04203515910087467, \"z\": 1.7565113073679877}, \"radius\": 0.3, \"color\": \"blue\"});\n\tviewer_17363396899904583.addSphere({\"center\": {\"x\": -6.915751474781916, \"y\": -0.4942992479569068, \"z\": 1.3095066202547947}, \"radius\": 0.3, \"color\": \"blue\"});\n\tviewer_17363396899904583.addSphere({\"center\": {\"x\": -7.85217396379293, \"y\": -0.18766557596642025, \"z\": -0.9411375186280874}, \"radius\": 0.3, \"color\": \"blue\"});\n\tviewer_17363396899904583.addSphere({\"center\": {\"x\": -6.37123836342724, \"y\": 0.577223409561296, \"z\": -2.7291331763054667}, \"radius\": 0.3, \"color\": \"blue\"});\n\tviewer_17363396899904583.addSphere({\"center\": {\"x\": -3.9688260624542475, \"y\": 1.0435066777004256, \"z\": -2.3157937593064872}, \"radius\": 0.3, \"color\": \"blue\"});\n\tviewer_17363396899904583.addSphere({\"center\": {\"x\": 5.257090254195524, \"y\": 0.8872029785327818, \"z\": 3.491947078247912}, \"radius\": 0.3, \"color\": \"blue\"});\n\tviewer_17363396899904583.addSphere({\"center\": {\"x\": 4.76678714878796, \"y\": 2.1783117621736787, \"z\": 0.4471307898676919}, \"radius\": 0.3, \"color\": \"blue\"});\n\tviewer_17363396899904583.addSphere({\"center\": {\"x\": 3.1447549060932927, \"y\": 2.518327911725074, \"z\": -0.34267794854503225}, \"radius\": 0.3, \"color\": \"blue\"});\n\tviewer_17363396899904583.addSphere({\"center\": {\"x\": 4.570249474293604, \"y\": 2.1017860626848686, \"z\": -1.3343562184043671}, \"radius\": 0.3, \"color\": \"blue\"});\n\tviewer_17363396899904583.addCylinder({\"start\": {\"x\": 4.777111154088039, \"y\": -0.5059551472792387, \"z\": -0.4381352226960041}, \"end\": {\"x\": 3.6782390163266365, \"y\": 0.47097167167558057, \"z\": -0.22546534708397242}, \"radius\": 0.1, \"color\": \"black\"});\n\tviewer_17363396899904583.addCylinder({\"start\": {\"x\": 3.6782390163266365, \"y\": 0.47097167167558057, \"z\": -0.22546534708397242}, \"end\": {\"x\": 2.9680120779747177, \"y\": 0.22794618092484584, \"z\": 1.0463280886805295}, \"radius\": 0.1, \"color\": \"black\"});\n\tviewer_17363396899904583.addCylinder({\"start\": {\"x\": 2.9680120779747177, \"y\": 0.22794618092484584, \"z\": 1.0463280886805295}, \"end\": {\"x\": 2.055757125684234, \"y\": -0.8288731277597918, \"z\": 0.9596398206056264}, \"radius\": 0.1, \"color\": \"black\"});\n\tviewer_17363396899904583.addCylinder({\"start\": {\"x\": 2.055757125684234, \"y\": -0.8288731277597918, \"z\": 0.9596398206056264}, \"end\": {\"x\": 1.7846613165540686, \"y\": -1.2852978611545518, \"z\": -0.4141031379783288}, \"radius\": 0.1, \"color\": \"black\"});\n\tviewer_17363396899904583.addCylinder({\"start\": {\"x\": 1.7846613165540686, \"y\": -1.2852978611545518, \"z\": -0.4141031379783288}, \"end\": {\"x\": 2.2615527291401656, \"y\": 0.15420144687794538, \"z\": -1.3709418936939128}, \"radius\": 0.1, \"color\": \"black\"});\n\tviewer_17363396899904583.addCylinder({\"start\": {\"x\": 1.7846613165540686, \"y\": -1.2852978611545518, \"z\": -0.4141031379783288}, \"end\": {\"x\": 0.40363901677930947, \"y\": -1.486978427153335, \"z\": 0.042193706145834085}, \"radius\": 0.1, \"color\": \"black\"});\n\tviewer_17363396899904583.addCylinder({\"start\": {\"x\": 0.40363901677930947, \"y\": -1.486978427153335, \"z\": 0.042193706145834085}, \"end\": {\"x\": 1.1155745753297657, \"y\": -1.8601703061002473, \"z\": 1.334053803355911}, \"radius\": 0.1, \"color\": \"black\"});\n\tviewer_17363396899904583.addCylinder({\"start\": {\"x\": 1.1155745753297657, \"y\": -1.8601703061002473, \"z\": 1.334053803355911}, \"end\": {\"x\": 0.950743554721335, \"y\": -2.673412600111996, \"z\": 2.2629773198311707}, \"radius\": 0.1, \"color\": \"black\"});\n\tviewer_17363396899904583.addCylinder({\"start\": {\"x\": 0.40363901677930947, \"y\": -1.486978427153335, \"z\": 0.042193706145834085}, \"end\": {\"x\": -0.44227787575854594, \"y\": -0.3286376670337332, \"z\": 0.20313411546639282}, \"radius\": 0.1, \"color\": \"black\"});\n\tviewer_17363396899904583.addCylinder({\"start\": {\"x\": -0.44227787575854594, \"y\": -0.3286376670337332, \"z\": 0.20313411546639282}, \"end\": {\"x\": -1.8319242218857947, \"y\": -0.43109286757445753, \"z\": -0.09062009888253876}, \"radius\": 0.1, \"color\": \"black\"});\n\tviewer_17363396899904583.addCylinder({\"start\": {\"x\": -1.8319242218857947, \"y\": -0.43109286757445753, \"z\": -0.09062009888253876}, \"end\": {\"x\": -2.375369881014367, \"y\": -1.4926923326167796, \"z\": -0.4898076097013733}, \"radius\": 0.1, \"color\": \"black\"});\n\tviewer_17363396899904583.addCylinder({\"start\": {\"x\": -1.8319242218857947, \"y\": -0.43109286757445753, \"z\": -0.09062009888253876}, \"end\": {\"x\": -2.6676531284063127, \"y\": 0.7863417047410696, \"z\": 0.08869417709674944}, \"radius\": 0.1, \"color\": \"black\"});\n\tviewer_17363396899904583.addCylinder({\"start\": {\"x\": -2.6676531284063127, \"y\": 0.7863417047410696, \"z\": 0.08869417709674944}, \"end\": {\"x\": -4.079522724253729, \"y\": 0.534880670173417, \"z\": -0.25071582197365977}, \"radius\": 0.1, \"color\": \"black\"});\n\tviewer_17363396899904583.addCylinder({\"start\": {\"x\": -4.079522724253729, \"y\": 0.534880670173417, \"z\": -0.25071582197365977}, \"end\": {\"x\": -4.927281141426211, \"y\": 0.10269307905929521, \"z\": 0.7485562651138753}, \"radius\": 0.1, \"color\": \"black\"});\n\tviewer_17363396899904583.addCylinder({\"start\": {\"x\": -4.927281141426211, \"y\": 0.10269307905929521, \"z\": 0.7485562651138753}, \"end\": {\"x\": -6.262020263914944, \"y\": -0.1549571643039089, \"z\": 0.5129265862970392}, \"radius\": 0.1, \"color\": \"black\"});\n\tviewer_17363396899904583.addCylinder({\"start\": {\"x\": -6.262020263914944, \"y\": -0.1549571643039089, \"z\": 0.5129265862970392}, \"end\": {\"x\": -6.796954663034393, \"y\": 0.013521579456247055, \"z\": -0.7441346463867178}, \"radius\": 0.1, \"color\": \"black\"});\n\tviewer_17363396899904583.addCylinder({\"start\": {\"x\": -6.796954663034393, \"y\": 0.013521579456247055, \"z\": -0.7441346463867178}, \"end\": {\"x\": -5.949436986428069, \"y\": 0.4465182543496029, \"z\": -1.747101621427021}, \"radius\": 0.1, \"color\": \"black\"});\n\tviewer_17363396899904583.addCylinder({\"start\": {\"x\": -5.949436986428069, \"y\": 0.4465182543496029, \"z\": -1.747101621427021}, \"end\": {\"x\": -4.611263318522823, \"y\": 0.7061188738457789, \"z\": -1.5163616092591425}, \"radius\": 0.1, \"color\": \"black\"});\n\tviewer_17363396899904583.addCylinder({\"start\": {\"x\": 2.9680120779747177, \"y\": 0.22794618092484584, \"z\": 1.0463280886805295}, \"end\": {\"x\": 3.910264036741339, \"y\": -0.08394291318320456, \"z\": 2.1791029554729273}, \"radius\": 0.1, \"color\": \"black\"});\n\tviewer_17363396899904583.addCylinder({\"start\": {\"x\": 3.910264036741339, \"y\": -0.08394291318320456, \"z\": 2.1791029554729273}, \"end\": {\"x\": 3.787259268869511, \"y\": -1.1482326604156436, \"z\": 2.8528954010769487}, \"radius\": 0.1, \"color\": \"black\"});\n\tviewer_17363396899904583.addCylinder({\"start\": {\"x\": 3.910264036741339, \"y\": -0.08394291318320456, \"z\": 2.1791029554729273}, \"end\": {\"x\": 4.942197532170585, \"y\": 0.7922713259446782, \"z\": 2.5141566257555126}, \"radius\": 0.1, \"color\": \"black\"});\n\tviewer_17363396899904583.addCylinder({\"start\": {\"x\": 3.6782390163266365, \"y\": 0.47097167167558057, \"z\": -0.22546534708397242}, \"end\": {\"x\": 4.092662689886986, \"y\": 1.913065127395451, \"z\": -0.3663467851886075}, \"radius\": 0.1, \"color\": \"black\"});\n\tviewer_17363396899904583.addCylinder({\"start\": {\"x\": 2.2615527291401656, \"y\": 0.15420144687794538, \"z\": -1.3709418936939128}, \"end\": {\"x\": 3.6782390163266365, \"y\": 0.47097167167558057, \"z\": -0.22546534708397242}, \"radius\": 0.1, \"color\": \"black\"});\n\tviewer_17363396899904583.addCylinder({\"start\": {\"x\": 1.1155745753297657, \"y\": -1.8601703061002473, \"z\": 1.334053803355911}, \"end\": {\"x\": 2.055757125684234, \"y\": -0.8288731277597918, \"z\": 0.9596398206056264}, \"radius\": 0.1, \"color\": \"black\"});\n\tviewer_17363396899904583.addCylinder({\"start\": {\"x\": -4.611263318522823, \"y\": 0.7061188738457789, \"z\": -1.5163616092591425}, \"end\": {\"x\": -4.079522724253729, \"y\": 0.534880670173417, \"z\": -0.25071582197365977}, \"radius\": 0.1, \"color\": \"black\"});\n\tviewer_17363396899904583.addCylinder({\"start\": {\"x\": 4.777111154088039, \"y\": -0.5059551472792387, \"z\": -0.4381352226960041}, \"end\": {\"x\": 4.586250901466594, \"y\": -1.2607538463759165, \"z\": -1.2172544265957266}, \"radius\": 0.1, \"color\": \"black\"});\n\tviewer_17363396899904583.addCylinder({\"start\": {\"x\": 4.777111154088039, \"y\": -0.5059551472792387, \"z\": -0.4381352226960041}, \"end\": {\"x\": 5.724771353478765, \"y\": 0.04978830959349767, \"z\": -0.5979922443512672}, \"radius\": 0.1, \"color\": \"black\"});\n\tviewer_17363396899904583.addCylinder({\"start\": {\"x\": 4.777111154088039, \"y\": -0.5059551472792387, \"z\": -0.4381352226960041}, \"end\": {\"x\": 4.9447378058439515, \"y\": -1.1020178302804478, \"z\": 0.5032419426710136}, \"radius\": 0.1, \"color\": \"black\"});\n\tviewer_17363396899904583.addCylinder({\"start\": {\"x\": 2.9680120779747177, \"y\": 0.22794618092484584, \"z\": 1.0463280886805295}, \"end\": {\"x\": 2.5268691345855134, \"y\": 1.2167124696612786, \"z\": 1.3420172206567103}, \"radius\": 0.1, \"color\": \"black\"});\n\tviewer_17363396899904583.addCylinder({\"start\": {\"x\": 1.7846613165540686, \"y\": -1.2852978611545518, \"z\": -0.4141031379783288}, \"end\": {\"x\": 2.272071713075797, \"y\": -2.20935882969011, \"z\": -0.7143789873463456}, \"radius\": 0.1, \"color\": \"black\"});\n\tviewer_17363396899904583.addCylinder({\"start\": {\"x\": 0.40363901677930947, \"y\": -1.486978427153335, \"z\": 0.042193706145834085}, \"end\": {\"x\": -0.10640177379107338, \"y\": -2.400739106178249, \"z\": -0.3094213647058184}, \"radius\": 0.1, \"color\": \"black\"});\n\tviewer_17363396899904583.addCylinder({\"start\": {\"x\": -0.44227787575854594, \"y\": -0.3286376670337332, \"z\": 0.20313411546639282}, \"end\": {\"x\": 0.015911270379693157, \"y\": 0.5496352178947654, \"z\": 0.5350461812363377}, \"radius\": 0.1, \"color\": \"black\"});\n\tviewer_17363396899904583.addCylinder({\"start\": {\"x\": -2.6676531284063127, \"y\": 0.7863417047410696, \"z\": 0.08869417709674944}, \"end\": {\"x\": -2.5902270465054418, \"y\": 1.0576830681930212, \"z\": 1.1677202298095684}, \"radius\": 0.1, \"color\": \"black\"});\n\tviewer_17363396899904583.addCylinder({\"start\": {\"x\": -2.6676531284063127, \"y\": 0.7863417047410696, \"z\": 0.08869417709674944}, \"end\": {\"x\": -2.24928573758396, \"y\": 1.648404888071092, \"z\": -0.5047421348068359}, \"radius\": 0.1, \"color\": \"black\"});\n\tviewer_17363396899904583.addCylinder({\"start\": {\"x\": -4.927281141426211, \"y\": 0.10269307905929521, \"z\": 0.7485562651138753}, \"end\": {\"x\": -4.539559429484753, \"y\": -0.04203515910087467, \"z\": 1.7565113073679877}, \"radius\": 0.1, \"color\": \"black\"});\n\tviewer_17363396899904583.addCylinder({\"start\": {\"x\": -6.262020263914944, \"y\": -0.1549571643039089, \"z\": 0.5129265862970392}, \"end\": {\"x\": -6.915751474781916, \"y\": -0.4942992479569068, \"z\": 1.3095066202547947}, \"radius\": 0.1, \"color\": \"black\"});\n\tviewer_17363396899904583.addCylinder({\"start\": {\"x\": -6.796954663034393, \"y\": 0.013521579456247055, \"z\": -0.7441346463867178}, \"end\": {\"x\": -7.85217396379293, \"y\": -0.18766557596642025, \"z\": -0.9411375186280874}, \"radius\": 0.1, \"color\": \"black\"});\n\tviewer_17363396899904583.addCylinder({\"start\": {\"x\": -5.949436986428069, \"y\": 0.4465182543496029, \"z\": -1.747101621427021}, \"end\": {\"x\": -6.37123836342724, \"y\": 0.577223409561296, \"z\": -2.7291331763054667}, \"radius\": 0.1, \"color\": \"black\"});\n\tviewer_17363396899904583.addCylinder({\"start\": {\"x\": -4.611263318522823, \"y\": 0.7061188738457789, \"z\": -1.5163616092591425}, \"end\": {\"x\": -3.9688260624542475, \"y\": 1.0435066777004256, \"z\": -2.3157937593064872}, \"radius\": 0.1, \"color\": \"black\"});\n\tviewer_17363396899904583.addCylinder({\"start\": {\"x\": 4.942197532170585, \"y\": 0.7922713259446782, \"z\": 2.5141566257555126}, \"end\": {\"x\": 5.257090254195524, \"y\": 0.8872029785327818, \"z\": 3.491947078247912}, \"radius\": 0.1, \"color\": \"black\"});\n\tviewer_17363396899904583.addCylinder({\"start\": {\"x\": 4.092662689886986, \"y\": 1.913065127395451, \"z\": -0.3663467851886075}, \"end\": {\"x\": 4.76678714878796, \"y\": 2.1783117621736787, \"z\": 0.4471307898676919}, \"radius\": 0.1, \"color\": \"black\"});\n\tviewer_17363396899904583.addCylinder({\"start\": {\"x\": 4.092662689886986, \"y\": 1.913065127395451, \"z\": -0.3663467851886075}, \"end\": {\"x\": 3.1447549060932927, \"y\": 2.518327911725074, \"z\": -0.34267794854503225}, \"radius\": 0.1, \"color\": \"black\"});\n\tviewer_17363396899904583.addCylinder({\"start\": {\"x\": 4.092662689886986, \"y\": 1.913065127395451, \"z\": -0.3663467851886075}, \"end\": {\"x\": 4.570249474293604, \"y\": 2.1017860626848686, \"z\": -1.3343562184043671}, \"radius\": 0.1, \"color\": \"black\"});\n\tviewer_17363396899904583.zoomTo();\nviewer_17363396899904583.render();\n});\n</script>",
      "text/html": [
       "<div id=\"3dmolviewer_17363396899904583\"  style=\"position: relative; width: 400px; height: 400px;\">\n",
       "        <p id=\"3dmolwarning_17363396899904583\" style=\"background-color:#ffcccc;color:black\">3Dmol.js failed to load for some reason.  Please check your browser console for error messages.<br></p>\n",
       "        </div>\n",
       "<script>\n",
       "\n",
       "var loadScriptAsync = function(uri){\n",
       "  return new Promise((resolve, reject) => {\n",
       "    //this is to ignore the existence of requirejs amd\n",
       "    var savedexports, savedmodule;\n",
       "    if (typeof exports !== 'undefined') savedexports = exports;\n",
       "    else exports = {}\n",
       "    if (typeof module !== 'undefined') savedmodule = module;\n",
       "    else module = {}\n",
       "\n",
       "    var tag = document.createElement('script');\n",
       "    tag.src = uri;\n",
       "    tag.async = true;\n",
       "    tag.onload = () => {\n",
       "        exports = savedexports;\n",
       "        module = savedmodule;\n",
       "        resolve();\n",
       "    };\n",
       "  var firstScriptTag = document.getElementsByTagName('script')[0];\n",
       "  firstScriptTag.parentNode.insertBefore(tag, firstScriptTag);\n",
       "});\n",
       "};\n",
       "\n",
       "if(typeof $3Dmolpromise === 'undefined') {\n",
       "$3Dmolpromise = null;\n",
       "  $3Dmolpromise = loadScriptAsync('https://cdnjs.cloudflare.com/ajax/libs/3Dmol/2.4.2/3Dmol-min.js');\n",
       "}\n",
       "\n",
       "var viewer_17363396899904583 = null;\n",
       "var warn = document.getElementById(\"3dmolwarning_17363396899904583\");\n",
       "if(warn) {\n",
       "    warn.parentNode.removeChild(warn);\n",
       "}\n",
       "$3Dmolpromise.then(function() {\n",
       "viewer_17363396899904583 = $3Dmol.createViewer(document.getElementById(\"3dmolviewer_17363396899904583\"),{backgroundColor:\"white\"});\n",
       "viewer_17363396899904583.zoomTo();\n",
       "\tviewer_17363396899904583.addSphere({\"center\": {\"x\": 4.777111154088039, \"y\": -0.5059551472792387, \"z\": -0.4381352226960041}, \"radius\": 0.3, \"color\": \"gray\"});\n",
       "\tviewer_17363396899904583.addSphere({\"center\": {\"x\": 3.6782390163266365, \"y\": 0.47097167167558057, \"z\": -0.22546534708397242}, \"radius\": 0.3, \"color\": \"gray\"});\n",
       "\tviewer_17363396899904583.addSphere({\"center\": {\"x\": 2.9680120779747177, \"y\": 0.22794618092484584, \"z\": 1.0463280886805295}, \"radius\": 0.3, \"color\": \"gray\"});\n",
       "\tviewer_17363396899904583.addSphere({\"center\": {\"x\": 2.055757125684234, \"y\": -0.8288731277597918, \"z\": 0.9596398206056264}, \"radius\": 0.3, \"color\": \"gray\"});\n",
       "\tviewer_17363396899904583.addSphere({\"center\": {\"x\": 1.7846613165540686, \"y\": -1.2852978611545518, \"z\": -0.4141031379783288}, \"radius\": 0.3, \"color\": \"gray\"});\n",
       "\tviewer_17363396899904583.addSphere({\"center\": {\"x\": 2.2615527291401656, \"y\": 0.15420144687794538, \"z\": -1.3709418936939128}, \"radius\": 0.3, \"color\": \"gray\"});\n",
       "\tviewer_17363396899904583.addSphere({\"center\": {\"x\": 0.40363901677930947, \"y\": -1.486978427153335, \"z\": 0.042193706145834085}, \"radius\": 0.3, \"color\": \"gray\"});\n",
       "\tviewer_17363396899904583.addSphere({\"center\": {\"x\": 1.1155745753297657, \"y\": -1.8601703061002473, \"z\": 1.334053803355911}, \"radius\": 0.3, \"color\": \"gray\"});\n",
       "\tviewer_17363396899904583.addSphere({\"center\": {\"x\": 0.950743554721335, \"y\": -2.673412600111996, \"z\": 2.2629773198311707}, \"radius\": 0.3, \"color\": \"gray\"});\n",
       "\tviewer_17363396899904583.addSphere({\"center\": {\"x\": -0.44227787575854594, \"y\": -0.3286376670337332, \"z\": 0.20313411546639282}, \"radius\": 0.3, \"color\": \"gray\"});\n",
       "\tviewer_17363396899904583.addSphere({\"center\": {\"x\": -1.8319242218857947, \"y\": -0.43109286757445753, \"z\": -0.09062009888253876}, \"radius\": 0.3, \"color\": \"gray\"});\n",
       "\tviewer_17363396899904583.addSphere({\"center\": {\"x\": -2.375369881014367, \"y\": -1.4926923326167796, \"z\": -0.4898076097013733}, \"radius\": 0.3, \"color\": \"gray\"});\n",
       "\tviewer_17363396899904583.addSphere({\"center\": {\"x\": -2.6676531284063127, \"y\": 0.7863417047410696, \"z\": 0.08869417709674944}, \"radius\": 0.3, \"color\": \"gray\"});\n",
       "\tviewer_17363396899904583.addSphere({\"center\": {\"x\": -4.079522724253729, \"y\": 0.534880670173417, \"z\": -0.25071582197365977}, \"radius\": 0.3, \"color\": \"gray\"});\n",
       "\tviewer_17363396899904583.addSphere({\"center\": {\"x\": -4.927281141426211, \"y\": 0.10269307905929521, \"z\": 0.7485562651138753}, \"radius\": 0.3, \"color\": \"gray\"});\n",
       "\tviewer_17363396899904583.addSphere({\"center\": {\"x\": -6.262020263914944, \"y\": -0.1549571643039089, \"z\": 0.5129265862970392}, \"radius\": 0.3, \"color\": \"gray\"});\n",
       "\tviewer_17363396899904583.addSphere({\"center\": {\"x\": -6.796954663034393, \"y\": 0.013521579456247055, \"z\": -0.7441346463867178}, \"radius\": 0.3, \"color\": \"gray\"});\n",
       "\tviewer_17363396899904583.addSphere({\"center\": {\"x\": -5.949436986428069, \"y\": 0.4465182543496029, \"z\": -1.747101621427021}, \"radius\": 0.3, \"color\": \"gray\"});\n",
       "\tviewer_17363396899904583.addSphere({\"center\": {\"x\": -4.611263318522823, \"y\": 0.7061188738457789, \"z\": -1.5163616092591425}, \"radius\": 0.3, \"color\": \"gray\"});\n",
       "\tviewer_17363396899904583.addSphere({\"center\": {\"x\": 3.910264036741339, \"y\": -0.08394291318320456, \"z\": 2.1791029554729273}, \"radius\": 0.3, \"color\": \"gray\"});\n",
       "\tviewer_17363396899904583.addSphere({\"center\": {\"x\": 3.787259268869511, \"y\": -1.1482326604156436, \"z\": 2.8528954010769487}, \"radius\": 0.3, \"color\": \"gray\"});\n",
       "\tviewer_17363396899904583.addSphere({\"center\": {\"x\": 4.942197532170585, \"y\": 0.7922713259446782, \"z\": 2.5141566257555126}, \"radius\": 0.3, \"color\": \"gray\"});\n",
       "\tviewer_17363396899904583.addSphere({\"center\": {\"x\": 4.092662689886986, \"y\": 1.913065127395451, \"z\": -0.3663467851886075}, \"radius\": 0.3, \"color\": \"gray\"});\n",
       "\tviewer_17363396899904583.addSphere({\"center\": {\"x\": 4.586250901466594, \"y\": -1.2607538463759165, \"z\": -1.2172544265957266}, \"radius\": 0.3, \"color\": \"blue\"});\n",
       "\tviewer_17363396899904583.addSphere({\"center\": {\"x\": 5.724771353478765, \"y\": 0.04978830959349767, \"z\": -0.5979922443512672}, \"radius\": 0.3, \"color\": \"blue\"});\n",
       "\tviewer_17363396899904583.addSphere({\"center\": {\"x\": 4.9447378058439515, \"y\": -1.1020178302804478, \"z\": 0.5032419426710136}, \"radius\": 0.3, \"color\": \"blue\"});\n",
       "\tviewer_17363396899904583.addSphere({\"center\": {\"x\": 2.5268691345855134, \"y\": 1.2167124696612786, \"z\": 1.3420172206567103}, \"radius\": 0.3, \"color\": \"blue\"});\n",
       "\tviewer_17363396899904583.addSphere({\"center\": {\"x\": 2.272071713075797, \"y\": -2.20935882969011, \"z\": -0.7143789873463456}, \"radius\": 0.3, \"color\": \"blue\"});\n",
       "\tviewer_17363396899904583.addSphere({\"center\": {\"x\": -0.10640177379107338, \"y\": -2.400739106178249, \"z\": -0.3094213647058184}, \"radius\": 0.3, \"color\": \"blue\"});\n",
       "\tviewer_17363396899904583.addSphere({\"center\": {\"x\": 0.015911270379693157, \"y\": 0.5496352178947654, \"z\": 0.5350461812363377}, \"radius\": 0.3, \"color\": \"blue\"});\n",
       "\tviewer_17363396899904583.addSphere({\"center\": {\"x\": -2.5902270465054418, \"y\": 1.0576830681930212, \"z\": 1.1677202298095684}, \"radius\": 0.3, \"color\": \"blue\"});\n",
       "\tviewer_17363396899904583.addSphere({\"center\": {\"x\": -2.24928573758396, \"y\": 1.648404888071092, \"z\": -0.5047421348068359}, \"radius\": 0.3, \"color\": \"blue\"});\n",
       "\tviewer_17363396899904583.addSphere({\"center\": {\"x\": -4.539559429484753, \"y\": -0.04203515910087467, \"z\": 1.7565113073679877}, \"radius\": 0.3, \"color\": \"blue\"});\n",
       "\tviewer_17363396899904583.addSphere({\"center\": {\"x\": -6.915751474781916, \"y\": -0.4942992479569068, \"z\": 1.3095066202547947}, \"radius\": 0.3, \"color\": \"blue\"});\n",
       "\tviewer_17363396899904583.addSphere({\"center\": {\"x\": -7.85217396379293, \"y\": -0.18766557596642025, \"z\": -0.9411375186280874}, \"radius\": 0.3, \"color\": \"blue\"});\n",
       "\tviewer_17363396899904583.addSphere({\"center\": {\"x\": -6.37123836342724, \"y\": 0.577223409561296, \"z\": -2.7291331763054667}, \"radius\": 0.3, \"color\": \"blue\"});\n",
       "\tviewer_17363396899904583.addSphere({\"center\": {\"x\": -3.9688260624542475, \"y\": 1.0435066777004256, \"z\": -2.3157937593064872}, \"radius\": 0.3, \"color\": \"blue\"});\n",
       "\tviewer_17363396899904583.addSphere({\"center\": {\"x\": 5.257090254195524, \"y\": 0.8872029785327818, \"z\": 3.491947078247912}, \"radius\": 0.3, \"color\": \"blue\"});\n",
       "\tviewer_17363396899904583.addSphere({\"center\": {\"x\": 4.76678714878796, \"y\": 2.1783117621736787, \"z\": 0.4471307898676919}, \"radius\": 0.3, \"color\": \"blue\"});\n",
       "\tviewer_17363396899904583.addSphere({\"center\": {\"x\": 3.1447549060932927, \"y\": 2.518327911725074, \"z\": -0.34267794854503225}, \"radius\": 0.3, \"color\": \"blue\"});\n",
       "\tviewer_17363396899904583.addSphere({\"center\": {\"x\": 4.570249474293604, \"y\": 2.1017860626848686, \"z\": -1.3343562184043671}, \"radius\": 0.3, \"color\": \"blue\"});\n",
       "\tviewer_17363396899904583.addCylinder({\"start\": {\"x\": 4.777111154088039, \"y\": -0.5059551472792387, \"z\": -0.4381352226960041}, \"end\": {\"x\": 3.6782390163266365, \"y\": 0.47097167167558057, \"z\": -0.22546534708397242}, \"radius\": 0.1, \"color\": \"black\"});\n",
       "\tviewer_17363396899904583.addCylinder({\"start\": {\"x\": 3.6782390163266365, \"y\": 0.47097167167558057, \"z\": -0.22546534708397242}, \"end\": {\"x\": 2.9680120779747177, \"y\": 0.22794618092484584, \"z\": 1.0463280886805295}, \"radius\": 0.1, \"color\": \"black\"});\n",
       "\tviewer_17363396899904583.addCylinder({\"start\": {\"x\": 2.9680120779747177, \"y\": 0.22794618092484584, \"z\": 1.0463280886805295}, \"end\": {\"x\": 2.055757125684234, \"y\": -0.8288731277597918, \"z\": 0.9596398206056264}, \"radius\": 0.1, \"color\": \"black\"});\n",
       "\tviewer_17363396899904583.addCylinder({\"start\": {\"x\": 2.055757125684234, \"y\": -0.8288731277597918, \"z\": 0.9596398206056264}, \"end\": {\"x\": 1.7846613165540686, \"y\": -1.2852978611545518, \"z\": -0.4141031379783288}, \"radius\": 0.1, \"color\": \"black\"});\n",
       "\tviewer_17363396899904583.addCylinder({\"start\": {\"x\": 1.7846613165540686, \"y\": -1.2852978611545518, \"z\": -0.4141031379783288}, \"end\": {\"x\": 2.2615527291401656, \"y\": 0.15420144687794538, \"z\": -1.3709418936939128}, \"radius\": 0.1, \"color\": \"black\"});\n",
       "\tviewer_17363396899904583.addCylinder({\"start\": {\"x\": 1.7846613165540686, \"y\": -1.2852978611545518, \"z\": -0.4141031379783288}, \"end\": {\"x\": 0.40363901677930947, \"y\": -1.486978427153335, \"z\": 0.042193706145834085}, \"radius\": 0.1, \"color\": \"black\"});\n",
       "\tviewer_17363396899904583.addCylinder({\"start\": {\"x\": 0.40363901677930947, \"y\": -1.486978427153335, \"z\": 0.042193706145834085}, \"end\": {\"x\": 1.1155745753297657, \"y\": -1.8601703061002473, \"z\": 1.334053803355911}, \"radius\": 0.1, \"color\": \"black\"});\n",
       "\tviewer_17363396899904583.addCylinder({\"start\": {\"x\": 1.1155745753297657, \"y\": -1.8601703061002473, \"z\": 1.334053803355911}, \"end\": {\"x\": 0.950743554721335, \"y\": -2.673412600111996, \"z\": 2.2629773198311707}, \"radius\": 0.1, \"color\": \"black\"});\n",
       "\tviewer_17363396899904583.addCylinder({\"start\": {\"x\": 0.40363901677930947, \"y\": -1.486978427153335, \"z\": 0.042193706145834085}, \"end\": {\"x\": -0.44227787575854594, \"y\": -0.3286376670337332, \"z\": 0.20313411546639282}, \"radius\": 0.1, \"color\": \"black\"});\n",
       "\tviewer_17363396899904583.addCylinder({\"start\": {\"x\": -0.44227787575854594, \"y\": -0.3286376670337332, \"z\": 0.20313411546639282}, \"end\": {\"x\": -1.8319242218857947, \"y\": -0.43109286757445753, \"z\": -0.09062009888253876}, \"radius\": 0.1, \"color\": \"black\"});\n",
       "\tviewer_17363396899904583.addCylinder({\"start\": {\"x\": -1.8319242218857947, \"y\": -0.43109286757445753, \"z\": -0.09062009888253876}, \"end\": {\"x\": -2.375369881014367, \"y\": -1.4926923326167796, \"z\": -0.4898076097013733}, \"radius\": 0.1, \"color\": \"black\"});\n",
       "\tviewer_17363396899904583.addCylinder({\"start\": {\"x\": -1.8319242218857947, \"y\": -0.43109286757445753, \"z\": -0.09062009888253876}, \"end\": {\"x\": -2.6676531284063127, \"y\": 0.7863417047410696, \"z\": 0.08869417709674944}, \"radius\": 0.1, \"color\": \"black\"});\n",
       "\tviewer_17363396899904583.addCylinder({\"start\": {\"x\": -2.6676531284063127, \"y\": 0.7863417047410696, \"z\": 0.08869417709674944}, \"end\": {\"x\": -4.079522724253729, \"y\": 0.534880670173417, \"z\": -0.25071582197365977}, \"radius\": 0.1, \"color\": \"black\"});\n",
       "\tviewer_17363396899904583.addCylinder({\"start\": {\"x\": -4.079522724253729, \"y\": 0.534880670173417, \"z\": -0.25071582197365977}, \"end\": {\"x\": -4.927281141426211, \"y\": 0.10269307905929521, \"z\": 0.7485562651138753}, \"radius\": 0.1, \"color\": \"black\"});\n",
       "\tviewer_17363396899904583.addCylinder({\"start\": {\"x\": -4.927281141426211, \"y\": 0.10269307905929521, \"z\": 0.7485562651138753}, \"end\": {\"x\": -6.262020263914944, \"y\": -0.1549571643039089, \"z\": 0.5129265862970392}, \"radius\": 0.1, \"color\": \"black\"});\n",
       "\tviewer_17363396899904583.addCylinder({\"start\": {\"x\": -6.262020263914944, \"y\": -0.1549571643039089, \"z\": 0.5129265862970392}, \"end\": {\"x\": -6.796954663034393, \"y\": 0.013521579456247055, \"z\": -0.7441346463867178}, \"radius\": 0.1, \"color\": \"black\"});\n",
       "\tviewer_17363396899904583.addCylinder({\"start\": {\"x\": -6.796954663034393, \"y\": 0.013521579456247055, \"z\": -0.7441346463867178}, \"end\": {\"x\": -5.949436986428069, \"y\": 0.4465182543496029, \"z\": -1.747101621427021}, \"radius\": 0.1, \"color\": \"black\"});\n",
       "\tviewer_17363396899904583.addCylinder({\"start\": {\"x\": -5.949436986428069, \"y\": 0.4465182543496029, \"z\": -1.747101621427021}, \"end\": {\"x\": -4.611263318522823, \"y\": 0.7061188738457789, \"z\": -1.5163616092591425}, \"radius\": 0.1, \"color\": \"black\"});\n",
       "\tviewer_17363396899904583.addCylinder({\"start\": {\"x\": 2.9680120779747177, \"y\": 0.22794618092484584, \"z\": 1.0463280886805295}, \"end\": {\"x\": 3.910264036741339, \"y\": -0.08394291318320456, \"z\": 2.1791029554729273}, \"radius\": 0.1, \"color\": \"black\"});\n",
       "\tviewer_17363396899904583.addCylinder({\"start\": {\"x\": 3.910264036741339, \"y\": -0.08394291318320456, \"z\": 2.1791029554729273}, \"end\": {\"x\": 3.787259268869511, \"y\": -1.1482326604156436, \"z\": 2.8528954010769487}, \"radius\": 0.1, \"color\": \"black\"});\n",
       "\tviewer_17363396899904583.addCylinder({\"start\": {\"x\": 3.910264036741339, \"y\": -0.08394291318320456, \"z\": 2.1791029554729273}, \"end\": {\"x\": 4.942197532170585, \"y\": 0.7922713259446782, \"z\": 2.5141566257555126}, \"radius\": 0.1, \"color\": \"black\"});\n",
       "\tviewer_17363396899904583.addCylinder({\"start\": {\"x\": 3.6782390163266365, \"y\": 0.47097167167558057, \"z\": -0.22546534708397242}, \"end\": {\"x\": 4.092662689886986, \"y\": 1.913065127395451, \"z\": -0.3663467851886075}, \"radius\": 0.1, \"color\": \"black\"});\n",
       "\tviewer_17363396899904583.addCylinder({\"start\": {\"x\": 2.2615527291401656, \"y\": 0.15420144687794538, \"z\": -1.3709418936939128}, \"end\": {\"x\": 3.6782390163266365, \"y\": 0.47097167167558057, \"z\": -0.22546534708397242}, \"radius\": 0.1, \"color\": \"black\"});\n",
       "\tviewer_17363396899904583.addCylinder({\"start\": {\"x\": 1.1155745753297657, \"y\": -1.8601703061002473, \"z\": 1.334053803355911}, \"end\": {\"x\": 2.055757125684234, \"y\": -0.8288731277597918, \"z\": 0.9596398206056264}, \"radius\": 0.1, \"color\": \"black\"});\n",
       "\tviewer_17363396899904583.addCylinder({\"start\": {\"x\": -4.611263318522823, \"y\": 0.7061188738457789, \"z\": -1.5163616092591425}, \"end\": {\"x\": -4.079522724253729, \"y\": 0.534880670173417, \"z\": -0.25071582197365977}, \"radius\": 0.1, \"color\": \"black\"});\n",
       "\tviewer_17363396899904583.addCylinder({\"start\": {\"x\": 4.777111154088039, \"y\": -0.5059551472792387, \"z\": -0.4381352226960041}, \"end\": {\"x\": 4.586250901466594, \"y\": -1.2607538463759165, \"z\": -1.2172544265957266}, \"radius\": 0.1, \"color\": \"black\"});\n",
       "\tviewer_17363396899904583.addCylinder({\"start\": {\"x\": 4.777111154088039, \"y\": -0.5059551472792387, \"z\": -0.4381352226960041}, \"end\": {\"x\": 5.724771353478765, \"y\": 0.04978830959349767, \"z\": -0.5979922443512672}, \"radius\": 0.1, \"color\": \"black\"});\n",
       "\tviewer_17363396899904583.addCylinder({\"start\": {\"x\": 4.777111154088039, \"y\": -0.5059551472792387, \"z\": -0.4381352226960041}, \"end\": {\"x\": 4.9447378058439515, \"y\": -1.1020178302804478, \"z\": 0.5032419426710136}, \"radius\": 0.1, \"color\": \"black\"});\n",
       "\tviewer_17363396899904583.addCylinder({\"start\": {\"x\": 2.9680120779747177, \"y\": 0.22794618092484584, \"z\": 1.0463280886805295}, \"end\": {\"x\": 2.5268691345855134, \"y\": 1.2167124696612786, \"z\": 1.3420172206567103}, \"radius\": 0.1, \"color\": \"black\"});\n",
       "\tviewer_17363396899904583.addCylinder({\"start\": {\"x\": 1.7846613165540686, \"y\": -1.2852978611545518, \"z\": -0.4141031379783288}, \"end\": {\"x\": 2.272071713075797, \"y\": -2.20935882969011, \"z\": -0.7143789873463456}, \"radius\": 0.1, \"color\": \"black\"});\n",
       "\tviewer_17363396899904583.addCylinder({\"start\": {\"x\": 0.40363901677930947, \"y\": -1.486978427153335, \"z\": 0.042193706145834085}, \"end\": {\"x\": -0.10640177379107338, \"y\": -2.400739106178249, \"z\": -0.3094213647058184}, \"radius\": 0.1, \"color\": \"black\"});\n",
       "\tviewer_17363396899904583.addCylinder({\"start\": {\"x\": -0.44227787575854594, \"y\": -0.3286376670337332, \"z\": 0.20313411546639282}, \"end\": {\"x\": 0.015911270379693157, \"y\": 0.5496352178947654, \"z\": 0.5350461812363377}, \"radius\": 0.1, \"color\": \"black\"});\n",
       "\tviewer_17363396899904583.addCylinder({\"start\": {\"x\": -2.6676531284063127, \"y\": 0.7863417047410696, \"z\": 0.08869417709674944}, \"end\": {\"x\": -2.5902270465054418, \"y\": 1.0576830681930212, \"z\": 1.1677202298095684}, \"radius\": 0.1, \"color\": \"black\"});\n",
       "\tviewer_17363396899904583.addCylinder({\"start\": {\"x\": -2.6676531284063127, \"y\": 0.7863417047410696, \"z\": 0.08869417709674944}, \"end\": {\"x\": -2.24928573758396, \"y\": 1.648404888071092, \"z\": -0.5047421348068359}, \"radius\": 0.1, \"color\": \"black\"});\n",
       "\tviewer_17363396899904583.addCylinder({\"start\": {\"x\": -4.927281141426211, \"y\": 0.10269307905929521, \"z\": 0.7485562651138753}, \"end\": {\"x\": -4.539559429484753, \"y\": -0.04203515910087467, \"z\": 1.7565113073679877}, \"radius\": 0.1, \"color\": \"black\"});\n",
       "\tviewer_17363396899904583.addCylinder({\"start\": {\"x\": -6.262020263914944, \"y\": -0.1549571643039089, \"z\": 0.5129265862970392}, \"end\": {\"x\": -6.915751474781916, \"y\": -0.4942992479569068, \"z\": 1.3095066202547947}, \"radius\": 0.1, \"color\": \"black\"});\n",
       "\tviewer_17363396899904583.addCylinder({\"start\": {\"x\": -6.796954663034393, \"y\": 0.013521579456247055, \"z\": -0.7441346463867178}, \"end\": {\"x\": -7.85217396379293, \"y\": -0.18766557596642025, \"z\": -0.9411375186280874}, \"radius\": 0.1, \"color\": \"black\"});\n",
       "\tviewer_17363396899904583.addCylinder({\"start\": {\"x\": -5.949436986428069, \"y\": 0.4465182543496029, \"z\": -1.747101621427021}, \"end\": {\"x\": -6.37123836342724, \"y\": 0.577223409561296, \"z\": -2.7291331763054667}, \"radius\": 0.1, \"color\": \"black\"});\n",
       "\tviewer_17363396899904583.addCylinder({\"start\": {\"x\": -4.611263318522823, \"y\": 0.7061188738457789, \"z\": -1.5163616092591425}, \"end\": {\"x\": -3.9688260624542475, \"y\": 1.0435066777004256, \"z\": -2.3157937593064872}, \"radius\": 0.1, \"color\": \"black\"});\n",
       "\tviewer_17363396899904583.addCylinder({\"start\": {\"x\": 4.942197532170585, \"y\": 0.7922713259446782, \"z\": 2.5141566257555126}, \"end\": {\"x\": 5.257090254195524, \"y\": 0.8872029785327818, \"z\": 3.491947078247912}, \"radius\": 0.1, \"color\": \"black\"});\n",
       "\tviewer_17363396899904583.addCylinder({\"start\": {\"x\": 4.092662689886986, \"y\": 1.913065127395451, \"z\": -0.3663467851886075}, \"end\": {\"x\": 4.76678714878796, \"y\": 2.1783117621736787, \"z\": 0.4471307898676919}, \"radius\": 0.1, \"color\": \"black\"});\n",
       "\tviewer_17363396899904583.addCylinder({\"start\": {\"x\": 4.092662689886986, \"y\": 1.913065127395451, \"z\": -0.3663467851886075}, \"end\": {\"x\": 3.1447549060932927, \"y\": 2.518327911725074, \"z\": -0.34267794854503225}, \"radius\": 0.1, \"color\": \"black\"});\n",
       "\tviewer_17363396899904583.addCylinder({\"start\": {\"x\": 4.092662689886986, \"y\": 1.913065127395451, \"z\": -0.3663467851886075}, \"end\": {\"x\": 4.570249474293604, \"y\": 2.1017860626848686, \"z\": -1.3343562184043671}, \"radius\": 0.1, \"color\": \"black\"});\n",
       "\tviewer_17363396899904583.zoomTo();\n",
       "viewer_17363396899904583.render();\n",
       "});\n",
       "</script>"
      ]
     },
     "metadata": {},
     "output_type": "display_data"
    }
   ],
   "source": [
    "# Convert to 3D coordinates for visualization\n",
    "conf = molecule_3d.GetConformer()\n",
    "atoms = molecule_3d.GetAtoms()\n",
    "bonds = molecule_3d.GetBonds()\n",
    "\n",
    "# Visualize in 3D using py3Dmol\n",
    "view = py3Dmol.view(width=400, height=400)\n",
    "\n",
    "for atom in atoms:\n",
    "    pos = conf.GetAtomPosition(atom.GetIdx())\n",
    "    view.addSphere({\n",
    "        \"center\": {\"x\": pos.x, \"y\": pos.y, \"z\": pos.z},\n",
    "        \"radius\": 0.3,\n",
    "        \"color\": \"blue\" if atom.GetSymbol() == \"H\" else \"gray\",\n",
    "    })\n",
    "\n",
    "for bond in bonds:\n",
    "    begin = bond.GetBeginAtomIdx()\n",
    "    end = bond.GetEndAtomIdx()\n",
    "    pos1 = conf.GetAtomPosition(begin)\n",
    "    pos2 = conf.GetAtomPosition(end)\n",
    "    view.addCylinder({\n",
    "        \"start\": {\"x\": pos1.x, \"y\": pos1.y, \"z\": pos1.z},\n",
    "        \"end\": {\"x\": pos2.x, \"y\": pos2.y, \"z\": pos2.z},\n",
    "        \"radius\": 0.1,\n",
    "        \"color\": \"black\",\n",
    "    })\n",
    "\n",
    "view.zoomTo()\n",
    "view.show()"
   ]
  },
  {
   "cell_type": "code",
   "execution_count": 15,
   "metadata": {
    "ExecuteTime": {
     "end_time": "2024-11-29T08:24:06.118037Z",
     "start_time": "2024-11-29T08:24:06.114664Z"
    }
   },
   "outputs": [
    {
     "name": "stdout",
     "output_type": "stream",
     "text": [
      "3D view saved as 'molecule_3D.html'\n"
     ]
    }
   ],
   "source": [
    "with open(\"molecule_3D.html\", \"w\") as f:\n",
    "    f.write(view._make_html())\n",
    "print(\"3D view saved as 'molecule_3D.html'\")"
   ]
  },
  {
   "cell_type": "markdown",
   "metadata": {},
   "source": [
    "### e) 그래프 기반 접근: Graph (2D, 3D)\n",
    "분자 그래프(Molecular Graph)는 분자 구조를 그래프 형태로 표현한 것이다.\n",
    "\n",
    "분자를 구성하는 원자는 그래프의 __노드(Node)__ 로, 원자 간 결합은 __엣지(Edge)__ 로 나타낸다.\n",
    "\n",
    "이 표현은 분자의 연결 정보를 수학적으로 표현할 수 있을 뿐만 아니라, 3차원 구조까지 확장하여 반영할 수 있다.\n",
    "\n",
    "특히, **Graph Neural Network(GNN)**를 활용해 분자를 처리하거나 분석하는 데 유용하다.\n",
    "\n",
    "아래 간단한 예제에서 torch_geometric 라이브러리를 통한 분자 그래프 데이터를 __Data__ 객체로 만드는 작업을 해보자.\n",
    "\n",
    "Data 안에는 다음과 같은 값들이 기본적으로 포함되며 상황에 따라 필요한 정보를 삽입하거나 제거할 수 있다.\n",
    "\n",
    "* x: 그래프의 노드(원자)와 관련된 특성(feature)를 나타냄 (ex: [23, 9], 분자를 구성하는 23개의 노드가 존재하며 각 노드는 9차원의 특성 벡터를 가짐)\n",
    "* edge_index: 그래프의 엣지(결합)을 정의하는 인덱스 배열 (ex: [2, 50], 50개의 연결 정보를 2차원 배열로 표현)\n",
    "* edge_attr: 엣지(결합)의 특성(feature)을 나타냄 (ex: [50, 3], 50개의 엣지가 존재하며 각 엣지는 3차원의 특성 벡터를 가짐, 단일, 이중, 삼중 결합인지) \n",
    "* smiles: 그래프로 변환하기 전 SMILES \n"
   ]
  },
  {
   "cell_type": "markdown",
   "metadata": {},
   "source": [
    "< 2D graph >"
   ]
  },
  {
   "cell_type": "code",
   "execution_count": 16,
   "metadata": {
    "ExecuteTime": {
     "end_time": "2024-11-29T08:24:06.799847Z",
     "start_time": "2024-11-29T08:24:06.792384Z"
    }
   },
   "outputs": [
    {
     "data": {
      "text/plain": [
       "Data(x=[23, 9], edge_index=[2, 50], edge_attr=[50, 3], smiles='CC1([C@@H](N2[C@H](S1)[C@@H](C2=O)NC(=O)CC3=CC=CC=C3)C(=O)O)C')"
      ]
     },
     "execution_count": 16,
     "metadata": {},
     "output_type": "execute_result"
    }
   ],
   "source": [
    "graph_data = pyg_utils.smiles.from_smiles(molecule_smiles)\n",
    "graph_data"
   ]
  },
  {
   "cell_type": "code",
   "execution_count": 17,
   "metadata": {
    "ExecuteTime": {
     "end_time": "2024-11-29T08:24:07.131130Z",
     "start_time": "2024-11-29T08:24:07.081787Z"
    }
   },
   "outputs": [
    {
     "data": {
      "image/png": "[encoded data removed]",
      "text/plain": [
       "<Figure size 640x480 with 1 Axes>"
      ]
     },
     "metadata": {},
     "output_type": "display_data"
    }
   ],
   "source": [
    "g = pyg_utils.to_networkx(graph_data, to_undirected=True)\n",
    "nx.draw(g)"
   ]
  },
  {
   "cell_type": "markdown",
   "metadata": {},
   "source": [
    "< 3D graph >\n",
    "\n",
    "3차원 정보를 그래프에 표현하는 방법은 아직 명확히 정립된 틀이 없다.\n",
    "\n",
    "이번 실습에서는 간단히 3차원 좌표를 추출한 뒤, 이를 Data 객체에 저장하는 과정을 진행해 보자."
   ]
  },
  {
   "cell_type": "code",
   "execution_count": 18,
   "metadata": {
    "ExecuteTime": {
     "end_time": "2024-11-29T08:24:07.831706Z",
     "start_time": "2024-11-29T08:24:07.826158Z"
    }
   },
   "outputs": [
    {
     "name": "stdout",
     "output_type": "stream",
     "text": [
      "3d coordinates (23):\n"
     ]
    },
    {
     "data": {
      "text/plain": [
       "array([[ 4.77711115, -0.50595515, -0.43813522],\n",
       "       [ 3.67823902,  0.47097167, -0.22546535],\n",
       "       [ 2.96801208,  0.22794618,  1.04632809],\n",
       "       [ 2.05575713, -0.82887313,  0.95963982],\n",
       "       [ 1.78466132, -1.28529786, -0.41410314],\n",
       "       [ 2.26155273,  0.15420145, -1.37094189],\n",
       "       [ 0.40363902, -1.48697843,  0.04219371],\n",
       "       [ 1.11557458, -1.86017031,  1.3340538 ],\n",
       "       [ 0.95074355, -2.6734126 ,  2.26297732],\n",
       "       [-0.44227788, -0.32863767,  0.20313412],\n",
       "       [-1.83192422, -0.43109287, -0.0906201 ],\n",
       "       [-2.37536988, -1.49269233, -0.48980761],\n",
       "       [-2.66765313,  0.7863417 ,  0.08869418],\n",
       "       [-4.07952272,  0.53488067, -0.25071582],\n",
       "       [-4.92728114,  0.10269308,  0.74855627],\n",
       "       [-6.26202026, -0.15495716,  0.51292659],\n",
       "       [-6.79695466,  0.01352158, -0.74413465],\n",
       "       [-5.94943699,  0.44651825, -1.74710162],\n",
       "       [-4.61126332,  0.70611887, -1.51636161],\n",
       "       [ 3.91026404, -0.08394291,  2.17910296],\n",
       "       [ 3.78725927, -1.14823266,  2.8528954 ],\n",
       "       [ 4.94219753,  0.79227133,  2.51415663],\n",
       "       [ 4.09266269,  1.91306513, -0.36634679]])"
      ]
     },
     "execution_count": 18,
     "metadata": {},
     "output_type": "execute_result"
    }
   ],
   "source": [
    "conf = molecule_3d.GetConformer()\n",
    "pos = np.array([conf.GetAtomPosition(idx) for idx, symbol in atom_info])\n",
    "print(f'3d coordinates ({len(pos)}):')\n",
    "pos"
   ]
  },
  {
   "cell_type": "code",
   "execution_count": 19,
   "metadata": {
    "ExecuteTime": {
     "end_time": "2024-11-29T08:24:08.285940Z",
     "start_time": "2024-11-29T08:24:08.281114Z"
    }
   },
   "outputs": [
    {
     "data": {
      "text/plain": [
       "Data(x=[23, 9], edge_index=[2, 50], edge_attr=[50, 3], smiles='CC1([C@@H](N2[C@H](S1)[C@@H](C2=O)NC(=O)CC3=CC=CC=C3)C(=O)O)C', pos=[23, 3])"
      ]
     },
     "execution_count": 19,
     "metadata": {},
     "output_type": "execute_result"
    }
   ],
   "source": [
    "graph_data.pos = pos\n",
    "graph_data"
   ]
  },
  {
   "cell_type": "markdown",
   "metadata": {},
   "source": [
    "## 3) 다양한 형태 변환을 할 수 있는 전체 함수\n",
    "\n",
    "앞서 배운 다양한 분자 데이터 변환 방식들을 하나의 함수로 통합하여, 원하는 변환 방식을 선택하면 그에 맞게 변환된 결과를 출력할 수 있도록 구현해보자.\n",
    "\n",
    "> **Tip**: 여러 개의 분자를 한꺼번에 변환할 수 있도록, 함수는 SMILES 문자열들을 리스트로 입력받을 수 있도록 작성한다."
   ]
  },
  {
   "cell_type": "code",
   "execution_count": 20,
   "metadata": {
    "ExecuteTime": {
     "end_time": "2024-11-29T08:24:21.525980Z",
     "start_time": "2024-11-29T08:24:21.519684Z"
    }
   },
   "outputs": [],
   "source": [
    "from torch_geometric.data import Data\n",
    "\n",
    "def transform_mol(molecule_smiles, choice):\n",
    "    mols = [Chem.MolFromSmiles(mol) for mol in molecule_smiles]\n",
    "    \n",
    "    # string tokenization\n",
    "    if choice == 'string_tokenization': # vocab dictionary, encoded smiles를 출력\n",
    "        vocab = []\n",
    "        max_len = 0\n",
    "        tokenizer = BasicSmilesTokenizer()\n",
    "        for smi in molecule_smiles:\n",
    "            tokens = tokenizer.tokenize(smi)\n",
    "            max_len = max(max_len, len(tokens))\n",
    "            vocab += tokens\n",
    "            \n",
    "        uniq_vocab = sorted(set(vocab))\n",
    "        smiles_vocab = {v: i for i, v in enumerate(uniq_vocab)}\n",
    "        smiles_vocab['Unk'] = len(smiles_vocab)\n",
    "        \n",
    "        encoded_smiles = [[smiles_vocab.get(token, smiles_vocab['Unk']) for token in tokenizer.tokenize(smi)] for smi in molecule_smiles]\n",
    "        smiles_vec = []\n",
    "        for vec in encoded_smiles:\n",
    "            pad_len = max_len - len(vec)\n",
    "            vec = vec + ([0] * pad_len)\n",
    "            smiles_vec.append(vec)\n",
    "        smiles_vec = np.array(smiles_vec)\n",
    "        return smiles_vocab, smiles_vec\n",
    "\n",
    "    # 2D Graph\n",
    "    elif choice == '2D_graph':\n",
    "        graph_data = [pyg_utils.from_smiles(smi) for smi in molecule_smiles]\n",
    "        return graph_data\n",
    "\n",
    "    # 3D Graph\n",
    "    elif choice == '3D_graph':\n",
    "        graph_3d = []\n",
    "        for smi in molecule_smiles:\n",
    "            graph_data = pyg_utils.from_smiles(smi)\n",
    "            \n",
    "            mol = Chem.MolFromSmiles(smi)\n",
    "            atom_info = [(atom.GetIdx(), atom.GetSymbol()) for atom in mol.GetAtoms()]\n",
    "                     \n",
    "            mol = AllChem.AddHs(mol, addCoords=True)\n",
    "            rdDistGeom.EmbedMolecule(mol)\n",
    "    \n",
    "            conf = mol.GetConformer()\n",
    "            pos = np.array([conf.GetAtomPosition(idx) for idx, symbol in atom_info])\n",
    "            graph_data.pos = pos\n",
    "            graph_3d.append(graph_data)\n",
    "        return graph_3d\n",
    "    \n",
    "    # Fingerprint\n",
    "    elif 'fingerprint' in choice:\n",
    "        if choice == 'rdkit_fingerprint':\n",
    "            fp = [Chem.RDKFingerprint(mol) for mol in mols]\n",
    "        \n",
    "        elif choice == 'maccs_fingerprint':\n",
    "            fp = [MACCSkeys.GenMACCSKeys(mol) for mol in mols]\n",
    "        \n",
    "        elif choice == 'morgan_fingerprint':\n",
    "            fp = [AllChem.GetMorganFingerprintAsBitVect(mol, radius=2, nBits=1024) for mol in mols]\n",
    "\n",
    "        return torch.tensor(fp)\n",
    "\n",
    "    # Descriptors\n",
    "    elif choice == 'descriptors':\n",
    "        # 모델 학습을 위해서는 스케일링 작업이 별도로 필요하다는 것을 기억하자!\n",
    "        return [Descriptors.CalcMolDescriptors(mol) for mol in mols] \n",
    "    \n",
    "    # 2D image로 변환\n",
    "    elif choice == '2D_image':\n",
    "        for idx, mol in enumerate(mols):\n",
    "            img = Draw.MolToImage(mol)\n",
    "            img.save(f\"molecule_2D_{idx}.png\") # 2D image 저장\n",
    "            print(f\"Saved molecule_2D_{idx}.png...\")\n",
    "\n",
    "    # 3D image로 변환\n",
    "    elif choice == '3D_image':\n",
    "        for idx, mol in enumerate(mols):\n",
    "            molecule_with_h = AllChem.AddHs(mol, addCoords=True)\n",
    "            rdDistGeom.EmbedMolecule(molecule_with_h)\n",
    "    \n",
    "            # Convert to 3D coordinates for visualization\n",
    "            conf = molecule_with_h.GetConformer()\n",
    "            atoms = molecule_with_h.GetAtoms()\n",
    "            bonds = molecule_with_h.GetBonds()\n",
    "    \n",
    "            # Visualize in 3D using py3Dmol\n",
    "            view = py3Dmol.view(width=400, height=400)\n",
    "    \n",
    "            for atom in atoms:\n",
    "                pos = conf.GetAtomPosition(atom.GetIdx())\n",
    "                view.addSphere({\n",
    "                    \"center\": {\"x\": pos.x, \"y\": pos.y, \"z\": pos.z},\n",
    "                    \"radius\": 0.3,\n",
    "                    \"color\": \"blue\" if atom.GetSymbol() == \"H\" else \"gray\",\n",
    "                })\n",
    "    \n",
    "            for bond in bonds:\n",
    "                begin = bond.GetBeginAtomIdx()\n",
    "                end = bond.GetEndAtomIdx()\n",
    "                pos1 = conf.GetAtomPosition(begin)\n",
    "                pos2 = conf.GetAtomPosition(end)\n",
    "                view.addCylinder({\n",
    "                    \"start\": {\"x\": pos1.x, \"y\": pos1.y, \"z\": pos1.z},\n",
    "                    \"end\": {\"x\": pos2.x, \"y\": pos2.y, \"z\": pos2.z},\n",
    "                    \"radius\": 0.1,\n",
    "                    \"color\": \"black\",\n",
    "                })\n",
    "            with open(f\"molecule_3D_{idx}.html\", \"w\") as f: # 3D image 저장\n",
    "                f.write(view._make_html())\n",
    "            print(f\"Saved molecule_3D_{idx}.html...\")"
   ]
  },
  {
   "cell_type": "code",
   "execution_count": 21,
   "metadata": {},
   "outputs": [
    {
     "data": {
      "text/plain": [
       "({'(': 0,\n",
       "  ')': 1,\n",
       "  '1': 2,\n",
       "  '2': 3,\n",
       "  '3': 4,\n",
       "  '=': 5,\n",
       "  'C': 6,\n",
       "  'N': 7,\n",
       "  'O': 8,\n",
       "  'S': 9,\n",
       "  '[C@@H]': 10,\n",
       "  '[C@H]': 11,\n",
       "  'Unk': 12},\n",
       " array([[ 6,  6,  2,  0, 10,  0,  7,  3, 11,  0,  9,  2,  1, 10,  0,  6,\n",
       "          3,  5,  8,  1,  7,  6,  0,  5,  8,  1,  6,  6,  4,  5,  6,  6,\n",
       "          5,  6,  6,  5,  6,  4,  1,  6,  0,  5,  8,  1,  8,  1,  6],\n",
       "        [ 6,  6,  0,  5,  8,  1,  8,  6,  2,  5,  6,  6,  5,  6,  6,  5,\n",
       "          6,  2,  6,  0,  5,  8,  1,  8,  0,  0,  0,  0,  0,  0,  0,  0,\n",
       "          0,  0,  0,  0,  0,  0,  0,  0,  0,  0,  0,  0,  0,  0,  0]]))"
      ]
     },
     "execution_count": 21,
     "metadata": {},
     "output_type": "execute_result"
    }
   ],
   "source": [
    "smiles_vocab, smiles_token = transform_mol([molecule_smiles, aspirin], 'string_tokenization')\n",
    "smiles_vocab, smiles_token"
   ]
  },
  {
   "cell_type": "code",
   "execution_count": 22,
   "metadata": {},
   "outputs": [
    {
     "data": {
      "text/plain": [
       "tensor([[0, 0, 0,  ..., 0, 0, 0],\n",
       "        [0, 0, 0,  ..., 0, 0, 0]])"
      ]
     },
     "execution_count": 22,
     "metadata": {},
     "output_type": "execute_result"
    }
   ],
   "source": [
    "fingerprint = transform_mol([molecule_smiles, aspirin], 'morgan_fingerprint')\n",
    "fingerprint"
   ]
  },
  {
   "cell_type": "code",
   "execution_count": 23,
   "metadata": {},
   "outputs": [
    {
     "data": {
      "text/plain": [
       "{'MaxAbsEStateIndex': 12.268318846056943,\n",
       " 'MaxEStateIndex': 12.268318846056943,\n",
       " 'MinAbsEStateIndex': 0.20214151864449437,\n",
       " 'MinEStateIndex': -1.007025845576982,\n",
       " 'qed': 0.7977632704521286,\n",
       " 'SPS': 28.0,\n",
       " 'MolWt': 334.39700000000005,\n",
       " 'HeavyAtomMolWt': 316.25300000000004,\n",
       " 'ExactMolWt': 334.09872805599997,\n",
       " 'NumValenceElectrons': 122,\n",
       " 'NumRadicalElectrons': 0,\n",
       " 'MaxPartialCharge': 0.3273993847026587,\n",
       " 'MinPartialCharge': -0.4796728023655438,\n",
       " 'MaxAbsPartialCharge': 0.4796728023655438,\n",
       " 'MinAbsPartialCharge': 0.3273993847026587,\n",
       " 'FpDensityMorgan1': 1.3043478260869565,\n",
       " 'FpDensityMorgan2': 1.9565217391304348,\n",
       " 'FpDensityMorgan3': 2.5652173913043477,\n",
       " 'BCUT2D_MWHI': 32.16690614916108,\n",
       " 'BCUT2D_MWLOW': 9.956816977411961,\n",
       " 'BCUT2D_CHGHI': 2.6362075433409933,\n",
       " 'BCUT2D_CHGLO': -2.4313369018698783,\n",
       " 'BCUT2D_LOGPHI': 2.5022450893783947,\n",
       " 'BCUT2D_LOGPLOW': -2.7029184926640752,\n",
       " 'BCUT2D_MRHI': 8.013146257169787,\n",
       " 'BCUT2D_MRLOW': -0.16058803827234566,\n",
       " 'AvgIpc': 2.741987834077,\n",
       " 'BalabanJ': 1.66490359617118,\n",
       " 'BertzCT': 661.3038986246087,\n",
       " 'Chi0': 16.775656403009393,\n",
       " 'Chi0n': 12.853329287558925,\n",
       " 'Chi0v': 13.669825868486651,\n",
       " 'Chi1': 10.809367635193633,\n",
       " 'Chi1n': 7.371634471739615,\n",
       " 'Chi1v': 8.25128728299451,\n",
       " 'Chi2n': 6.305705976733618,\n",
       " 'Chi2v': 8.07659111610618,\n",
       " 'Chi3n': 4.198926417267648,\n",
       " 'Chi3v': 5.770457012115133,\n",
       " 'Chi4n': 3.1511383951469214,\n",
       " 'Chi4v': 4.77653498475625,\n",
       " 'HallKierAlpha': -2.0199999999999996,\n",
       " 'Ipc': 129114.72313101777,\n",
       " 'Kappa1': 15.859752401338886,\n",
       " 'Kappa2': 5.559882097428593,\n",
       " 'Kappa3': 2.6923858356032686,\n",
       " 'LabuteASA': 137.78076788790858,\n",
       " 'PEOE_VSA1': 15.323225729697514,\n",
       " 'PEOE_VSA10': 17.45755447126466,\n",
       " 'PEOE_VSA11': 0.0,\n",
       " 'PEOE_VSA12': 11.814359458703011,\n",
       " 'PEOE_VSA13': 0.0,\n",
       " 'PEOE_VSA14': 5.969305287951849,\n",
       " 'PEOE_VSA2': 9.589074368143644,\n",
       " 'PEOE_VSA3': 4.794537184071822,\n",
       " 'PEOE_VSA4': 0.0,\n",
       " 'PEOE_VSA5': 11.761884949391115,\n",
       " 'PEOE_VSA6': 30.33183534230805,\n",
       " 'PEOE_VSA7': 19.410925891078243,\n",
       " 'PEOE_VSA8': 4.747022453217559,\n",
       " 'PEOE_VSA9': 6.4208216229260096,\n",
       " 'SMR_VSA1': 19.490138947056174,\n",
       " 'SMR_VSA10': 29.545549696045974,\n",
       " 'SMR_VSA2': 0.0,\n",
       " 'SMR_VSA3': 10.216698334856808,\n",
       " 'SMR_VSA4': 0.0,\n",
       " 'SMR_VSA5': 42.47287294678948,\n",
       " 'SMR_VSA6': 0.0,\n",
       " 'SMR_VSA7': 35.89528683400505,\n",
       " 'SMR_VSA8': 0.0,\n",
       " 'SMR_VSA9': 0.0,\n",
       " 'SlogP_VSA1': 5.316788604006331,\n",
       " 'SlogP_VSA10': 0.0,\n",
       " 'SlogP_VSA11': 0.0,\n",
       " 'SlogP_VSA12': 11.761884949391115,\n",
       " 'SlogP_VSA2': 49.99467879682826,\n",
       " 'SlogP_VSA3': 20.804433175141476,\n",
       " 'SlogP_VSA4': 0.0,\n",
       " 'SlogP_VSA5': 19.410925891078243,\n",
       " 'SlogP_VSA6': 30.33183534230805,\n",
       " 'SlogP_VSA7': 0.0,\n",
       " 'SlogP_VSA8': 0.0,\n",
       " 'SlogP_VSA9': 0.0,\n",
       " 'TPSA': 86.71000000000001,\n",
       " 'EState_VSA1': 22.80000939946533,\n",
       " 'EState_VSA10': 19.490138947056174,\n",
       " 'EState_VSA11': 0.0,\n",
       " 'EState_VSA2': 23.60905389459776,\n",
       " 'EState_VSA3': 0.0,\n",
       " 'EState_VSA4': 5.563451491696996,\n",
       " 'EState_VSA5': 16.66179468024159,\n",
       " 'EState_VSA6': 0.0,\n",
       " 'EState_VSA7': 44.179309741689295,\n",
       " 'EState_VSA8': 5.316788604006331,\n",
       " 'EState_VSA9': 0.0,\n",
       " 'VSA_EState1': -0.5783058915140895,\n",
       " 'VSA_EState10': 1.4237074305030653,\n",
       " 'VSA_EState2': 37.19097428557031,\n",
       " 'VSA_EState3': 11.789438746504459,\n",
       " 'VSA_EState4': 0.8717091967960026,\n",
       " 'VSA_EState5': -1.5549260303422459,\n",
       " 'VSA_EState6': 7.784420219356602,\n",
       " 'VSA_EState7': 0.20214151864449437,\n",
       " 'VSA_EState8': 3.6208405244813977,\n",
       " 'VSA_EState9': 0.0,\n",
       " 'FractionCSP3': 0.4375,\n",
       " 'HeavyAtomCount': 23,\n",
       " 'NHOHCount': 2,\n",
       " 'NOCount': 6,\n",
       " 'NumAliphaticCarbocycles': 0,\n",
       " 'NumAliphaticHeterocycles': 2,\n",
       " 'NumAliphaticRings': 2,\n",
       " 'NumAromaticCarbocycles': 1,\n",
       " 'NumAromaticHeterocycles': 0,\n",
       " 'NumAromaticRings': 1,\n",
       " 'NumHAcceptors': 4,\n",
       " 'NumHDonors': 2,\n",
       " 'NumHeteroatoms': 7,\n",
       " 'NumRotatableBonds': 4,\n",
       " 'NumSaturatedCarbocycles': 0,\n",
       " 'NumSaturatedHeterocycles': 2,\n",
       " 'NumSaturatedRings': 2,\n",
       " 'RingCount': 3,\n",
       " 'MolLogP': 0.8607999999999993,\n",
       " 'MolMR': 85.80450000000003,\n",
       " 'fr_Al_COO': 1,\n",
       " 'fr_Al_OH': 0,\n",
       " 'fr_Al_OH_noTert': 0,\n",
       " 'fr_ArN': 0,\n",
       " 'fr_Ar_COO': 0,\n",
       " 'fr_Ar_N': 0,\n",
       " 'fr_Ar_NH': 0,\n",
       " 'fr_Ar_OH': 0,\n",
       " 'fr_COO': 1,\n",
       " 'fr_COO2': 1,\n",
       " 'fr_C_O': 3,\n",
       " 'fr_C_O_noCOO': 2,\n",
       " 'fr_C_S': 0,\n",
       " 'fr_HOCCN': 0,\n",
       " 'fr_Imine': 0,\n",
       " 'fr_NH0': 1,\n",
       " 'fr_NH1': 1,\n",
       " 'fr_NH2': 0,\n",
       " 'fr_N_O': 0,\n",
       " 'fr_Ndealkylation1': 0,\n",
       " 'fr_Ndealkylation2': 0,\n",
       " 'fr_Nhpyrrole': 0,\n",
       " 'fr_SH': 0,\n",
       " 'fr_aldehyde': 0,\n",
       " 'fr_alkyl_carbamate': 0,\n",
       " 'fr_alkyl_halide': 0,\n",
       " 'fr_allylic_oxid': 0,\n",
       " 'fr_amide': 2,\n",
       " 'fr_amidine': 0,\n",
       " 'fr_aniline': 0,\n",
       " 'fr_aryl_methyl': 0,\n",
       " 'fr_azide': 0,\n",
       " 'fr_azo': 0,\n",
       " 'fr_barbitur': 0,\n",
       " 'fr_benzene': 1,\n",
       " 'fr_benzodiazepine': 0,\n",
       " 'fr_bicyclic': 1,\n",
       " 'fr_diazo': 0,\n",
       " 'fr_dihydropyridine': 0,\n",
       " 'fr_epoxide': 0,\n",
       " 'fr_ester': 0,\n",
       " 'fr_ether': 0,\n",
       " 'fr_furan': 0,\n",
       " 'fr_guanido': 0,\n",
       " 'fr_halogen': 0,\n",
       " 'fr_hdrzine': 0,\n",
       " 'fr_hdrzone': 0,\n",
       " 'fr_imidazole': 0,\n",
       " 'fr_imide': 0,\n",
       " 'fr_isocyan': 0,\n",
       " 'fr_isothiocyan': 0,\n",
       " 'fr_ketone': 0,\n",
       " 'fr_ketone_Topliss': 0,\n",
       " 'fr_lactam': 1,\n",
       " 'fr_lactone': 0,\n",
       " 'fr_methoxy': 0,\n",
       " 'fr_morpholine': 0,\n",
       " 'fr_nitrile': 0,\n",
       " 'fr_nitro': 0,\n",
       " 'fr_nitro_arom': 0,\n",
       " 'fr_nitro_arom_nonortho': 0,\n",
       " 'fr_nitroso': 0,\n",
       " 'fr_oxazole': 0,\n",
       " 'fr_oxime': 0,\n",
       " 'fr_para_hydroxylation': 0,\n",
       " 'fr_phenol': 0,\n",
       " 'fr_phenol_noOrthoHbond': 0,\n",
       " 'fr_phos_acid': 0,\n",
       " 'fr_phos_ester': 0,\n",
       " 'fr_piperdine': 0,\n",
       " 'fr_piperzine': 0,\n",
       " 'fr_priamide': 0,\n",
       " 'fr_prisulfonamd': 0,\n",
       " 'fr_pyridine': 0,\n",
       " 'fr_quatN': 0,\n",
       " 'fr_sulfide': 1,\n",
       " 'fr_sulfonamd': 0,\n",
       " 'fr_sulfone': 0,\n",
       " 'fr_term_acetylene': 0,\n",
       " 'fr_tetrazole': 0,\n",
       " 'fr_thiazole': 0,\n",
       " 'fr_thiocyan': 0,\n",
       " 'fr_thiophene': 0,\n",
       " 'fr_unbrch_alkane': 0,\n",
       " 'fr_urea': 0}"
      ]
     },
     "execution_count": 23,
     "metadata": {},
     "output_type": "execute_result"
    }
   ],
   "source": [
    "descriptors = transform_mol([molecule_smiles, aspirin], 'descriptors')\n",
    "descriptors[0]"
   ]
  },
  {
   "cell_type": "code",
   "execution_count": 24,
   "metadata": {},
   "outputs": [
    {
     "name": "stdout",
     "output_type": "stream",
     "text": [
      "Saved molecule_2D_0.png...\n",
      "Saved molecule_2D_1.png...\n"
     ]
    }
   ],
   "source": [
    "image_2d = transform_mol([molecule_smiles, aspirin], '2D_image')"
   ]
  },
  {
   "cell_type": "code",
   "execution_count": 25,
   "metadata": {},
   "outputs": [
    {
     "name": "stdout",
     "output_type": "stream",
     "text": [
      "Saved molecule_3D_0.html..."
     ]
    },
    {
     "name": "stdout",
     "output_type": "stream",
     "text": [
      "\n",
      "Saved molecule_3D_1.html...\n"
     ]
    }
   ],
   "source": [
    "image_3d = transform_mol([molecule_smiles, aspirin], '3D_image')"
   ]
  },
  {
   "cell_type": "code",
   "execution_count": 26,
   "metadata": {
    "ExecuteTime": {
     "end_time": "2024-11-29T08:24:22.262806Z",
     "start_time": "2024-11-29T08:24:22.258255Z"
    }
   },
   "outputs": [
    {
     "data": {
      "text/plain": [
       "[Data(x=[23, 9], edge_index=[2, 50], edge_attr=[50, 3], smiles='CC1([C@@H](N2[C@H](S1)[C@@H](C2=O)NC(=O)CC3=CC=CC=C3)C(=O)O)C'),\n",
       " Data(x=[13, 9], edge_index=[2, 26], edge_attr=[26, 3], smiles='CC(=O)OC1=CC=CC=C1C(=O)O')]"
      ]
     },
     "execution_count": 26,
     "metadata": {},
     "output_type": "execute_result"
    }
   ],
   "source": [
    "graph_2D = transform_mol([molecule_smiles, aspirin], '2D_graph')\n",
    "graph_2D"
   ]
  },
  {
   "cell_type": "code",
   "execution_count": 27,
   "metadata": {
    "ExecuteTime": {
     "end_time": "2024-11-29T08:24:23.735301Z",
     "start_time": "2024-11-29T08:24:23.707691Z"
    }
   },
   "outputs": [
    {
     "data": {
      "text/plain": [
       "[Data(x=[23, 9], edge_index=[2, 50], edge_attr=[50, 3], smiles='CC1([C@@H](N2[C@H](S1)[C@@H](C2=O)NC(=O)CC3=CC=CC=C3)C(=O)O)C', pos=[23, 3]),\n",
       " Data(x=[13, 9], edge_index=[2, 26], edge_attr=[26, 3], smiles='CC(=O)OC1=CC=CC=C1C(=O)O', pos=[13, 3])]"
      ]
     },
     "execution_count": 27,
     "metadata": {},
     "output_type": "execute_result"
    }
   ],
   "source": [
    "graph_3D = transform_mol([molecule_smiles, aspirin], '3D_graph')\n",
    "graph_3D"
   ]
  },
  {
   "cell_type": "code",
   "execution_count": null,
   "metadata": {},
   "outputs": [],
   "source": []
  }
 ],
 "metadata": {
  "kernelspec": {
   "display_name": "Python 3 (ipykernel)",
   "language": "python",
   "name": "python3"
  },
  "language_info": {
   "codemirror_mode": {
    "name": "ipython",
    "version": 3
   },
   "file_extension": ".py",
   "mimetype": "text/x-python",
   "name": "python",
   "nbconvert_exporter": "python",
   "pygments_lexer": "ipython3",
   "version": "3.12.7"
  }
 },
 "nbformat": 4,
 "nbformat_minor": 4
}
